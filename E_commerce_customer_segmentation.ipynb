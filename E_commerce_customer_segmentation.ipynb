{
  "cells": [
    {
      "cell_type": "markdown",
      "metadata": {
        "id": "ongl3r_9pwDU"
      },
      "source": [
        "# Segmenting Customers  Using Customer Segmentation Models in Python\n",
        "\n",
        "Customer segmentation is the bedrock for defining and distributing value by customers via their products. Providing personaized offers based on cohorts of customers who share the same behaviourial traits when it  comes to shopping improves sales and utimately net earnings.\n",
        "\n",
        "**Data Profile**\n",
        "\n",
        "The data is derived from an E-commerce database that lists purchases made by 4000+ customers over a period of one year (from 2010/12/01 to 2011/12/09). Source of data can be found [here](https://www.kaggle.com/datasets/carrie1/ecommerce-data/data)\n",
        "\n",
        "\n",
        "**Project Scope**\n",
        "\n",
        "The scope of the project entails segmenting a set of customer using customer segmentation algorithims. The main python algorithim to be used in creating customer segments is: **K-Means algorithm**.\n",
        "\n",
        "The custome segments will be based on a popular marketing framework used to bin customers: RFM(Recency, Frequency & Monetary).\n",
        "RFM is commonly used in marketing to evaluate a client’s value based on their:\n",
        "\n",
        "- Recency: How recently have they made a purchase?\n",
        "- Frequency: How often have they bought something?\n",
        "- Monetary Value: How much money do they spend on average when making purchases?\n"
      ]
    },
    {
      "cell_type": "code",
      "execution_count": 140,
      "metadata": {
        "id": "eTNgDOMmpwEa"
      },
      "outputs": [],
      "source": [
        "# load libraries for data analysis and visualization\n",
        "import pandas as pd\n",
        "import numpy as np\n",
        "import matplotlib.pyplot as plt\n",
        "import seaborn as sns   # for visualization\n",
        "\n",
        "# set styles\n",
        "sns.set_style('whitegrid')\n"
      ]
    },
    {
      "cell_type": "code",
      "execution_count": 141,
      "metadata": {
        "colab": {
          "base_uri": "https://localhost:8080/",
          "height": 536
        },
        "id": "b7FC1SgMpwEk",
        "outputId": "9ee18e8b-e123-47fa-9177-8bf624a8e770"
      },
      "outputs": [
        {
          "data": {
            "application/vnd.google.colaboratory.intrinsic+json": {
              "type": "dataframe",
              "variable_name": "customer_data"
            },
            "text/html": [
              "\n",
              "  <div id=\"df-bd1184a0-d817-4d89-865b-fa8aad7aa5f2\" class=\"colab-df-container\">\n",
              "    <div>\n",
              "<style scoped>\n",
              "    .dataframe tbody tr th:only-of-type {\n",
              "        vertical-align: middle;\n",
              "    }\n",
              "\n",
              "    .dataframe tbody tr th {\n",
              "        vertical-align: top;\n",
              "    }\n",
              "\n",
              "    .dataframe thead th {\n",
              "        text-align: right;\n",
              "    }\n",
              "</style>\n",
              "<table border=\"1\" class=\"dataframe\">\n",
              "  <thead>\n",
              "    <tr style=\"text-align: right;\">\n",
              "      <th></th>\n",
              "      <th>InvoiceNo</th>\n",
              "      <th>StockCode</th>\n",
              "      <th>Description</th>\n",
              "      <th>Quantity</th>\n",
              "      <th>InvoiceDate</th>\n",
              "      <th>UnitPrice</th>\n",
              "      <th>CustomerID</th>\n",
              "      <th>Country</th>\n",
              "    </tr>\n",
              "  </thead>\n",
              "  <tbody>\n",
              "    <tr>\n",
              "      <th>0</th>\n",
              "      <td>536365</td>\n",
              "      <td>85123A</td>\n",
              "      <td>WHITE HANGING HEART T-LIGHT HOLDER</td>\n",
              "      <td>6</td>\n",
              "      <td>12/1/2010 8:26</td>\n",
              "      <td>2.55</td>\n",
              "      <td>17850.0</td>\n",
              "      <td>United Kingdom</td>\n",
              "    </tr>\n",
              "    <tr>\n",
              "      <th>1</th>\n",
              "      <td>536365</td>\n",
              "      <td>71053</td>\n",
              "      <td>WHITE METAL LANTERN</td>\n",
              "      <td>6</td>\n",
              "      <td>12/1/2010 8:26</td>\n",
              "      <td>3.39</td>\n",
              "      <td>17850.0</td>\n",
              "      <td>United Kingdom</td>\n",
              "    </tr>\n",
              "    <tr>\n",
              "      <th>2</th>\n",
              "      <td>536365</td>\n",
              "      <td>84406B</td>\n",
              "      <td>CREAM CUPID HEARTS COAT HANGER</td>\n",
              "      <td>8</td>\n",
              "      <td>12/1/2010 8:26</td>\n",
              "      <td>2.75</td>\n",
              "      <td>17850.0</td>\n",
              "      <td>United Kingdom</td>\n",
              "    </tr>\n",
              "    <tr>\n",
              "      <th>3</th>\n",
              "      <td>536365</td>\n",
              "      <td>84029G</td>\n",
              "      <td>KNITTED UNION FLAG HOT WATER BOTTLE</td>\n",
              "      <td>6</td>\n",
              "      <td>12/1/2010 8:26</td>\n",
              "      <td>3.39</td>\n",
              "      <td>17850.0</td>\n",
              "      <td>United Kingdom</td>\n",
              "    </tr>\n",
              "    <tr>\n",
              "      <th>4</th>\n",
              "      <td>536365</td>\n",
              "      <td>84029E</td>\n",
              "      <td>RED WOOLLY HOTTIE WHITE HEART.</td>\n",
              "      <td>6</td>\n",
              "      <td>12/1/2010 8:26</td>\n",
              "      <td>3.39</td>\n",
              "      <td>17850.0</td>\n",
              "      <td>United Kingdom</td>\n",
              "    </tr>\n",
              "    <tr>\n",
              "      <th>5</th>\n",
              "      <td>536365</td>\n",
              "      <td>22752</td>\n",
              "      <td>SET 7 BABUSHKA NESTING BOXES</td>\n",
              "      <td>2</td>\n",
              "      <td>12/1/2010 8:26</td>\n",
              "      <td>7.65</td>\n",
              "      <td>17850.0</td>\n",
              "      <td>United Kingdom</td>\n",
              "    </tr>\n",
              "    <tr>\n",
              "      <th>6</th>\n",
              "      <td>536365</td>\n",
              "      <td>21730</td>\n",
              "      <td>GLASS STAR FROSTED T-LIGHT HOLDER</td>\n",
              "      <td>6</td>\n",
              "      <td>12/1/2010 8:26</td>\n",
              "      <td>4.25</td>\n",
              "      <td>17850.0</td>\n",
              "      <td>United Kingdom</td>\n",
              "    </tr>\n",
              "    <tr>\n",
              "      <th>7</th>\n",
              "      <td>536366</td>\n",
              "      <td>22633</td>\n",
              "      <td>HAND WARMER UNION JACK</td>\n",
              "      <td>6</td>\n",
              "      <td>12/1/2010 8:28</td>\n",
              "      <td>1.85</td>\n",
              "      <td>17850.0</td>\n",
              "      <td>United Kingdom</td>\n",
              "    </tr>\n",
              "    <tr>\n",
              "      <th>8</th>\n",
              "      <td>536366</td>\n",
              "      <td>22632</td>\n",
              "      <td>HAND WARMER RED POLKA DOT</td>\n",
              "      <td>6</td>\n",
              "      <td>12/1/2010 8:28</td>\n",
              "      <td>1.85</td>\n",
              "      <td>17850.0</td>\n",
              "      <td>United Kingdom</td>\n",
              "    </tr>\n",
              "    <tr>\n",
              "      <th>9</th>\n",
              "      <td>536367</td>\n",
              "      <td>84879</td>\n",
              "      <td>ASSORTED COLOUR BIRD ORNAMENT</td>\n",
              "      <td>32</td>\n",
              "      <td>12/1/2010 8:34</td>\n",
              "      <td>1.69</td>\n",
              "      <td>13047.0</td>\n",
              "      <td>United Kingdom</td>\n",
              "    </tr>\n",
              "  </tbody>\n",
              "</table>\n",
              "</div>\n",
              "    <div class=\"colab-df-buttons\">\n",
              "\n",
              "  <div class=\"colab-df-container\">\n",
              "    <button class=\"colab-df-convert\" onclick=\"convertToInteractive('df-bd1184a0-d817-4d89-865b-fa8aad7aa5f2')\"\n",
              "            title=\"Convert this dataframe to an interactive table.\"\n",
              "            style=\"display:none;\">\n",
              "\n",
              "  <svg xmlns=\"http://www.w3.org/2000/svg\" height=\"24px\" viewBox=\"0 -960 960 960\">\n",
              "    <path d=\"M120-120v-720h720v720H120Zm60-500h600v-160H180v160Zm220 220h160v-160H400v160Zm0 220h160v-160H400v160ZM180-400h160v-160H180v160Zm440 0h160v-160H620v160ZM180-180h160v-160H180v160Zm440 0h160v-160H620v160Z\"/>\n",
              "  </svg>\n",
              "    </button>\n",
              "\n",
              "  <style>\n",
              "    .colab-df-container {\n",
              "      display:flex;\n",
              "      gap: 12px;\n",
              "    }\n",
              "\n",
              "    .colab-df-convert {\n",
              "      background-color: #E8F0FE;\n",
              "      border: none;\n",
              "      border-radius: 50%;\n",
              "      cursor: pointer;\n",
              "      display: none;\n",
              "      fill: #1967D2;\n",
              "      height: 32px;\n",
              "      padding: 0 0 0 0;\n",
              "      width: 32px;\n",
              "    }\n",
              "\n",
              "    .colab-df-convert:hover {\n",
              "      background-color: #E2EBFA;\n",
              "      box-shadow: 0px 1px 2px rgba(60, 64, 67, 0.3), 0px 1px 3px 1px rgba(60, 64, 67, 0.15);\n",
              "      fill: #174EA6;\n",
              "    }\n",
              "\n",
              "    .colab-df-buttons div {\n",
              "      margin-bottom: 4px;\n",
              "    }\n",
              "\n",
              "    [theme=dark] .colab-df-convert {\n",
              "      background-color: #3B4455;\n",
              "      fill: #D2E3FC;\n",
              "    }\n",
              "\n",
              "    [theme=dark] .colab-df-convert:hover {\n",
              "      background-color: #434B5C;\n",
              "      box-shadow: 0px 1px 3px 1px rgba(0, 0, 0, 0.15);\n",
              "      filter: drop-shadow(0px 1px 2px rgba(0, 0, 0, 0.3));\n",
              "      fill: #FFFFFF;\n",
              "    }\n",
              "  </style>\n",
              "\n",
              "    <script>\n",
              "      const buttonEl =\n",
              "        document.querySelector('#df-bd1184a0-d817-4d89-865b-fa8aad7aa5f2 button.colab-df-convert');\n",
              "      buttonEl.style.display =\n",
              "        google.colab.kernel.accessAllowed ? 'block' : 'none';\n",
              "\n",
              "      async function convertToInteractive(key) {\n",
              "        const element = document.querySelector('#df-bd1184a0-d817-4d89-865b-fa8aad7aa5f2');\n",
              "        const dataTable =\n",
              "          await google.colab.kernel.invokeFunction('convertToInteractive',\n",
              "                                                    [key], {});\n",
              "        if (!dataTable) return;\n",
              "\n",
              "        const docLinkHtml = 'Like what you see? Visit the ' +\n",
              "          '<a target=\"_blank\" href=https://colab.research.google.com/notebooks/data_table.ipynb>data table notebook</a>'\n",
              "          + ' to learn more about interactive tables.';\n",
              "        element.innerHTML = '';\n",
              "        dataTable['output_type'] = 'display_data';\n",
              "        await google.colab.output.renderOutput(dataTable, element);\n",
              "        const docLink = document.createElement('div');\n",
              "        docLink.innerHTML = docLinkHtml;\n",
              "        element.appendChild(docLink);\n",
              "      }\n",
              "    </script>\n",
              "  </div>\n",
              "\n",
              "\n",
              "<div id=\"df-ef23c521-1d96-430b-80c0-bfad7bd24e6c\">\n",
              "  <button class=\"colab-df-quickchart\" onclick=\"quickchart('df-ef23c521-1d96-430b-80c0-bfad7bd24e6c')\"\n",
              "            title=\"Suggest charts\"\n",
              "            style=\"display:none;\">\n",
              "\n",
              "<svg xmlns=\"http://www.w3.org/2000/svg\" height=\"24px\"viewBox=\"0 0 24 24\"\n",
              "     width=\"24px\">\n",
              "    <g>\n",
              "        <path d=\"M19 3H5c-1.1 0-2 .9-2 2v14c0 1.1.9 2 2 2h14c1.1 0 2-.9 2-2V5c0-1.1-.9-2-2-2zM9 17H7v-7h2v7zm4 0h-2V7h2v10zm4 0h-2v-4h2v4z\"/>\n",
              "    </g>\n",
              "</svg>\n",
              "  </button>\n",
              "\n",
              "<style>\n",
              "  .colab-df-quickchart {\n",
              "      --bg-color: #E8F0FE;\n",
              "      --fill-color: #1967D2;\n",
              "      --hover-bg-color: #E2EBFA;\n",
              "      --hover-fill-color: #174EA6;\n",
              "      --disabled-fill-color: #AAA;\n",
              "      --disabled-bg-color: #DDD;\n",
              "  }\n",
              "\n",
              "  [theme=dark] .colab-df-quickchart {\n",
              "      --bg-color: #3B4455;\n",
              "      --fill-color: #D2E3FC;\n",
              "      --hover-bg-color: #434B5C;\n",
              "      --hover-fill-color: #FFFFFF;\n",
              "      --disabled-bg-color: #3B4455;\n",
              "      --disabled-fill-color: #666;\n",
              "  }\n",
              "\n",
              "  .colab-df-quickchart {\n",
              "    background-color: var(--bg-color);\n",
              "    border: none;\n",
              "    border-radius: 50%;\n",
              "    cursor: pointer;\n",
              "    display: none;\n",
              "    fill: var(--fill-color);\n",
              "    height: 32px;\n",
              "    padding: 0;\n",
              "    width: 32px;\n",
              "  }\n",
              "\n",
              "  .colab-df-quickchart:hover {\n",
              "    background-color: var(--hover-bg-color);\n",
              "    box-shadow: 0 1px 2px rgba(60, 64, 67, 0.3), 0 1px 3px 1px rgba(60, 64, 67, 0.15);\n",
              "    fill: var(--button-hover-fill-color);\n",
              "  }\n",
              "\n",
              "  .colab-df-quickchart-complete:disabled,\n",
              "  .colab-df-quickchart-complete:disabled:hover {\n",
              "    background-color: var(--disabled-bg-color);\n",
              "    fill: var(--disabled-fill-color);\n",
              "    box-shadow: none;\n",
              "  }\n",
              "\n",
              "  .colab-df-spinner {\n",
              "    border: 2px solid var(--fill-color);\n",
              "    border-color: transparent;\n",
              "    border-bottom-color: var(--fill-color);\n",
              "    animation:\n",
              "      spin 1s steps(1) infinite;\n",
              "  }\n",
              "\n",
              "  @keyframes spin {\n",
              "    0% {\n",
              "      border-color: transparent;\n",
              "      border-bottom-color: var(--fill-color);\n",
              "      border-left-color: var(--fill-color);\n",
              "    }\n",
              "    20% {\n",
              "      border-color: transparent;\n",
              "      border-left-color: var(--fill-color);\n",
              "      border-top-color: var(--fill-color);\n",
              "    }\n",
              "    30% {\n",
              "      border-color: transparent;\n",
              "      border-left-color: var(--fill-color);\n",
              "      border-top-color: var(--fill-color);\n",
              "      border-right-color: var(--fill-color);\n",
              "    }\n",
              "    40% {\n",
              "      border-color: transparent;\n",
              "      border-right-color: var(--fill-color);\n",
              "      border-top-color: var(--fill-color);\n",
              "    }\n",
              "    60% {\n",
              "      border-color: transparent;\n",
              "      border-right-color: var(--fill-color);\n",
              "    }\n",
              "    80% {\n",
              "      border-color: transparent;\n",
              "      border-right-color: var(--fill-color);\n",
              "      border-bottom-color: var(--fill-color);\n",
              "    }\n",
              "    90% {\n",
              "      border-color: transparent;\n",
              "      border-bottom-color: var(--fill-color);\n",
              "    }\n",
              "  }\n",
              "</style>\n",
              "\n",
              "  <script>\n",
              "    async function quickchart(key) {\n",
              "      const quickchartButtonEl =\n",
              "        document.querySelector('#' + key + ' button');\n",
              "      quickchartButtonEl.disabled = true;  // To prevent multiple clicks.\n",
              "      quickchartButtonEl.classList.add('colab-df-spinner');\n",
              "      try {\n",
              "        const charts = await google.colab.kernel.invokeFunction(\n",
              "            'suggestCharts', [key], {});\n",
              "      } catch (error) {\n",
              "        console.error('Error during call to suggestCharts:', error);\n",
              "      }\n",
              "      quickchartButtonEl.classList.remove('colab-df-spinner');\n",
              "      quickchartButtonEl.classList.add('colab-df-quickchart-complete');\n",
              "    }\n",
              "    (() => {\n",
              "      let quickchartButtonEl =\n",
              "        document.querySelector('#df-ef23c521-1d96-430b-80c0-bfad7bd24e6c button');\n",
              "      quickchartButtonEl.style.display =\n",
              "        google.colab.kernel.accessAllowed ? 'block' : 'none';\n",
              "    })();\n",
              "  </script>\n",
              "</div>\n",
              "\n",
              "    </div>\n",
              "  </div>\n"
            ],
            "text/plain": [
              "  InvoiceNo StockCode                          Description  Quantity  \\\n",
              "0    536365    85123A   WHITE HANGING HEART T-LIGHT HOLDER         6   \n",
              "1    536365     71053                  WHITE METAL LANTERN         6   \n",
              "2    536365    84406B       CREAM CUPID HEARTS COAT HANGER         8   \n",
              "3    536365    84029G  KNITTED UNION FLAG HOT WATER BOTTLE         6   \n",
              "4    536365    84029E       RED WOOLLY HOTTIE WHITE HEART.         6   \n",
              "5    536365     22752         SET 7 BABUSHKA NESTING BOXES         2   \n",
              "6    536365     21730    GLASS STAR FROSTED T-LIGHT HOLDER         6   \n",
              "7    536366     22633               HAND WARMER UNION JACK         6   \n",
              "8    536366     22632            HAND WARMER RED POLKA DOT         6   \n",
              "9    536367     84879        ASSORTED COLOUR BIRD ORNAMENT        32   \n",
              "\n",
              "      InvoiceDate  UnitPrice  CustomerID         Country  \n",
              "0  12/1/2010 8:26       2.55     17850.0  United Kingdom  \n",
              "1  12/1/2010 8:26       3.39     17850.0  United Kingdom  \n",
              "2  12/1/2010 8:26       2.75     17850.0  United Kingdom  \n",
              "3  12/1/2010 8:26       3.39     17850.0  United Kingdom  \n",
              "4  12/1/2010 8:26       3.39     17850.0  United Kingdom  \n",
              "5  12/1/2010 8:26       7.65     17850.0  United Kingdom  \n",
              "6  12/1/2010 8:26       4.25     17850.0  United Kingdom  \n",
              "7  12/1/2010 8:28       1.85     17850.0  United Kingdom  \n",
              "8  12/1/2010 8:28       1.85     17850.0  United Kingdom  \n",
              "9  12/1/2010 8:34       1.69     13047.0  United Kingdom  "
            ]
          },
          "execution_count": 141,
          "metadata": {},
          "output_type": "execute_result"
        }
      ],
      "source": [
        "# import dataset\n",
        "# import dataset\n",
        "\n",
        "customer_data = pd.read_csv('/content/data.csv', encoding='latin-1') # or encoding='ISO-8859-1'\n",
        "customer_data.head(10)"
      ]
    },
    {
      "cell_type": "code",
      "execution_count": 142,
      "metadata": {
        "colab": {
          "base_uri": "https://localhost:8080/"
        },
        "id": "4SLSkVphpwEl",
        "outputId": "296384fd-6737-4807-82f4-7325f90f36a4"
      },
      "outputs": [
        {
          "name": "stdout",
          "output_type": "stream",
          "text": [
            "<class 'pandas.core.frame.DataFrame'>\n",
            "RangeIndex: 541909 entries, 0 to 541908\n",
            "Data columns (total 8 columns):\n",
            " #   Column       Non-Null Count   Dtype  \n",
            "---  ------       --------------   -----  \n",
            " 0   InvoiceNo    541909 non-null  object \n",
            " 1   StockCode    541909 non-null  object \n",
            " 2   Description  540455 non-null  object \n",
            " 3   Quantity     541909 non-null  int64  \n",
            " 4   InvoiceDate  541909 non-null  object \n",
            " 5   UnitPrice    541909 non-null  float64\n",
            " 6   CustomerID   406829 non-null  float64\n",
            " 7   Country      541909 non-null  object \n",
            "dtypes: float64(2), int64(1), object(5)\n",
            "memory usage: 33.1+ MB\n"
          ]
        }
      ],
      "source": [
        "# inspect dataset structure\n",
        "customer_data.info()"
      ]
    },
    {
      "cell_type": "markdown",
      "metadata": {
        "id": "tUx51PnupwEm"
      },
      "source": [
        "# Features Meaning\n",
        "The dataset consists of 8 variables:\n",
        "\n",
        "- InvoiceNo: The unique identifier of each customer invoice.\n",
        "- StockCode: The unique identifier of each item in stock.\n",
        "- Description: The item purchased by the customer.\n",
        "- Quantity: The number of each item purchased by a customer in a single invoice.\n",
        "- InvoiceDate: The purchase date.\n",
        "- UnitPrice: Price of one unit of each item.\n",
        "- CustomerID: Unique identifier assigned to each user.\n",
        "- Country: The country from where the purchase was made."
      ]
    },
    {
      "cell_type": "markdown",
      "metadata": {
        "id": "LFKPHinmpwEn"
      },
      "source": [
        "## Data Pre-processing\n",
        "Cleaning the dataset by:\n",
        "- Dealing with missing values\n",
        "- Data type tranformation for some columns like `InvoiceDate` from string to datetime and `CustomerID` to string\n"
      ]
    },
    {
      "cell_type": "code",
      "execution_count": 143,
      "metadata": {
        "colab": {
          "base_uri": "https://localhost:8080/"
        },
        "id": "m4kCZvIApwEo",
        "outputId": "429c74d8-f1ed-46de-86f0-1ba1342a384d"
      },
      "outputs": [
        {
          "name": "stdout",
          "output_type": "stream",
          "text": [
            "InvoiceNo       0.000000\n",
            "StockCode       0.000000\n",
            "Description     0.268311\n",
            "Quantity        0.000000\n",
            "InvoiceDate     0.000000\n",
            "UnitPrice       0.000000\n",
            "CustomerID     24.926694\n",
            "Country         0.000000\n",
            "dtype: float64\n"
          ]
        }
      ],
      "source": [
        "# check for missing values and proportion of missing values\n",
        "missing_values = customer_data.isnull().sum()\n",
        "proportion_missing = (missing_values / len(customer_data)) * 100\n",
        "print(proportion_missing)"
      ]
    },
    {
      "cell_type": "code",
      "execution_count": 144,
      "metadata": {
        "id": "MGsC7LvkpwEp"
      },
      "outputs": [],
      "source": [
        "# drop missing values in the CustomerID column\n",
        "customer_data = customer_data.dropna(subset=['CustomerID'])\n"
      ]
    },
    {
      "cell_type": "code",
      "execution_count": 145,
      "metadata": {
        "id": "UGK7MjGtpwEt"
      },
      "outputs": [],
      "source": [
        "# tranform the InvoiceDate column to datetime\n",
        "customer_data['InvoiceDate'] = pd.to_datetime(customer_data['InvoiceDate'])"
      ]
    },
    {
      "cell_type": "code",
      "execution_count": 146,
      "metadata": {
        "id": "n5Z7n1z7pwE6"
      },
      "outputs": [],
      "source": [
        "# transform the CustomerID column to object\n",
        "customer_data['CustomerID'] = customer_data['CustomerID'].astype('object')\n"
      ]
    },
    {
      "cell_type": "code",
      "execution_count": 147,
      "metadata": {
        "colab": {
          "base_uri": "https://localhost:8080/"
        },
        "id": "B4likJQ7pwFQ",
        "outputId": "2fbcaff4-26e7-4a62-a516-40560845f1c5"
      },
      "outputs": [
        {
          "name": "stdout",
          "output_type": "stream",
          "text": [
            "<class 'pandas.core.frame.DataFrame'>\n",
            "Index: 406829 entries, 0 to 541908\n",
            "Data columns (total 8 columns):\n",
            " #   Column       Non-Null Count   Dtype         \n",
            "---  ------       --------------   -----         \n",
            " 0   InvoiceNo    406829 non-null  object        \n",
            " 1   StockCode    406829 non-null  object        \n",
            " 2   Description  406829 non-null  object        \n",
            " 3   Quantity     406829 non-null  int64         \n",
            " 4   InvoiceDate  406829 non-null  datetime64[ns]\n",
            " 5   UnitPrice    406829 non-null  float64       \n",
            " 6   CustomerID   406829 non-null  object        \n",
            " 7   Country      406829 non-null  object        \n",
            "dtypes: datetime64[ns](1), float64(1), int64(1), object(5)\n",
            "memory usage: 27.9+ MB\n"
          ]
        }
      ],
      "source": [
        "# check data information\n",
        "customer_data.info()"
      ]
    },
    {
      "cell_type": "code",
      "execution_count": 148,
      "metadata": {
        "colab": {
          "base_uri": "https://localhost:8080/",
          "height": 335
        },
        "id": "AS5UAiFcpwFe",
        "outputId": "02221d5b-a49e-4403-d974-555f4d5d99b2"
      },
      "outputs": [
        {
          "data": {
            "text/html": [
              "<div>\n",
              "<style scoped>\n",
              "    .dataframe tbody tr th:only-of-type {\n",
              "        vertical-align: middle;\n",
              "    }\n",
              "\n",
              "    .dataframe tbody tr th {\n",
              "        vertical-align: top;\n",
              "    }\n",
              "\n",
              "    .dataframe thead th {\n",
              "        text-align: right;\n",
              "    }\n",
              "</style>\n",
              "<table border=\"1\" class=\"dataframe\">\n",
              "  <thead>\n",
              "    <tr style=\"text-align: right;\">\n",
              "      <th></th>\n",
              "      <th>1</th>\n",
              "    </tr>\n",
              "  </thead>\n",
              "  <tbody>\n",
              "    <tr>\n",
              "      <th>InvoiceNo</th>\n",
              "      <td>536365</td>\n",
              "    </tr>\n",
              "    <tr>\n",
              "      <th>StockCode</th>\n",
              "      <td>71053</td>\n",
              "    </tr>\n",
              "    <tr>\n",
              "      <th>Description</th>\n",
              "      <td>WHITE METAL LANTERN</td>\n",
              "    </tr>\n",
              "    <tr>\n",
              "      <th>Quantity</th>\n",
              "      <td>6</td>\n",
              "    </tr>\n",
              "    <tr>\n",
              "      <th>InvoiceDate</th>\n",
              "      <td>2010-12-01 08:26:00</td>\n",
              "    </tr>\n",
              "    <tr>\n",
              "      <th>UnitPrice</th>\n",
              "      <td>3.39</td>\n",
              "    </tr>\n",
              "    <tr>\n",
              "      <th>CustomerID</th>\n",
              "      <td>17850.0</td>\n",
              "    </tr>\n",
              "    <tr>\n",
              "      <th>Country</th>\n",
              "      <td>United Kingdom</td>\n",
              "    </tr>\n",
              "  </tbody>\n",
              "</table>\n",
              "</div><br><label><b>dtype:</b> object</label>"
            ],
            "text/plain": [
              "InvoiceNo                   536365\n",
              "StockCode                    71053\n",
              "Description    WHITE METAL LANTERN\n",
              "Quantity                         6\n",
              "InvoiceDate    2010-12-01 08:26:00\n",
              "UnitPrice                     3.39\n",
              "CustomerID                 17850.0\n",
              "Country             United Kingdom\n",
              "Name: 1, dtype: object"
            ]
          },
          "execution_count": 148,
          "metadata": {},
          "output_type": "execute_result"
        }
      ],
      "source": [
        "# inspect a customer record\n",
        "customer_data.iloc[1]"
      ]
    },
    {
      "cell_type": "code",
      "execution_count": 149,
      "metadata": {
        "colab": {
          "base_uri": "https://localhost:8080/"
        },
        "id": "goDqlTFipwFg",
        "outputId": "ef7b0a63-ff45-45d4-99dc-d948da348fcf"
      },
      "outputs": [
        {
          "name": "stdout",
          "output_type": "stream",
          "text": [
            "            Quantity                    InvoiceDate      UnitPrice\n",
            "count  406829.000000                         406829  406829.000000\n",
            "mean       12.061303  2011-07-10 16:30:57.879207424       3.460471\n",
            "min    -80995.000000            2010-12-01 08:26:00       0.000000\n",
            "25%         2.000000            2011-04-06 15:02:00       1.250000\n",
            "50%         5.000000            2011-07-31 11:48:00       1.950000\n",
            "75%        12.000000            2011-10-20 13:06:00       3.750000\n",
            "max     80995.000000            2011-12-09 12:50:00   38970.000000\n",
            "std       248.693370                            NaN      69.315162\n"
          ]
        }
      ],
      "source": [
        "# summary stats\n",
        "summary_stats_excl_customerid = customer_data.drop(columns=['CustomerID']).describe()\n",
        "print(summary_stats_excl_customerid)"
      ]
    },
    {
      "cell_type": "markdown",
      "metadata": {
        "id": "2ErZ1rvmpwFi"
      },
      "source": [
        "### Exploratory Analysis\n",
        "\n",
        "Investigate some general questions that can be answered by the dataset.\n",
        "Examples of exploratory questions:\n",
        "1) What's the number of unique customers?\n",
        "2) What is the average number of products purchased by customers?\n",
        "3) What is the average amount spent by customers?\n",
        "4) What is the average amount spent by customers per month?\n",
        "5) What is the leading country in terms of product volume purchased by customers?\n",
        "6) What is the leadig country in terms of product value purchased by customers?\n"
      ]
    },
    {
      "cell_type": "code",
      "execution_count": 150,
      "metadata": {
        "colab": {
          "base_uri": "https://localhost:8080/"
        },
        "id": "abcgUhYQpwFk",
        "outputId": "de1bde36-11bf-4d4d-8ace-c59d8fd86155"
      },
      "outputs": [
        {
          "name": "stdout",
          "output_type": "stream",
          "text": [
            "The number of distinct customers buying products from e-commerce are: 4372\n"
          ]
        }
      ],
      "source": [
        "# Quiz 1: How many unique customers are there in the dataset?\n",
        "unique_customers = customer_data['CustomerID'].nunique()\n",
        "print(f\"The number of distinct customers buying products from e-commerce are: {unique_customers}\")"
      ]
    },
    {
      "cell_type": "code",
      "execution_count": 151,
      "metadata": {
        "colab": {
          "base_uri": "https://localhost:8080/"
        },
        "id": "10hJy_7_pwFl",
        "outputId": "c19c2218-6d54-48f6-a36d-8c38c4bb5a3f"
      },
      "outputs": [
        {
          "name": "stdout",
          "output_type": "stream",
          "text": [
            "The average number of products purchased by customers is: 12\n"
          ]
        }
      ],
      "source": [
        "# Quiz 2: What is the average number of products purchased by customers?\n",
        "average_products_purchased = customer_data['Quantity'].mean()\n",
        "print(f\"The average number of products purchased by customers is: {average_products_purchased:.0f}\")"
      ]
    },
    {
      "cell_type": "code",
      "execution_count": 152,
      "metadata": {
        "colab": {
          "base_uri": "https://localhost:8080/"
        },
        "id": "2zOCi4DDpwFm",
        "outputId": "f0dd17fb-b9e5-47ac-e142-c8c6eb51e24d"
      },
      "outputs": [
        {
          "name": "stdout",
          "output_type": "stream",
          "text": [
            "The average amount spent by customers is: 20.40\n"
          ]
        }
      ],
      "source": [
        "# Quiz 3: What is the average amount spent by customers?\n",
        "customer_data['AmountSpent'] = customer_data['Quantity'] * customer_data['UnitPrice'] #creating a new column for amount spent\n",
        "average_amount_spent = customer_data['AmountSpent'].mean()\n",
        "print(f\"The average amount spent by customers is: {average_amount_spent:.2f}\")"
      ]
    },
    {
      "cell_type": "code",
      "execution_count": 153,
      "metadata": {
        "colab": {
          "base_uri": "https://localhost:8080/"
        },
        "id": "DeOLD02KpwFs",
        "outputId": "c3eb187a-413b-4a72-db6e-19e9d95baf9e"
      },
      "outputs": [
        {
          "name": "stdout",
          "output_type": "stream",
          "text": [
            "The average amount spent by customers per month is: \n",
            " InvoiceMonth\n",
            "1     21.68\n",
            "2     21.44\n",
            "3     20.85\n",
            "4     18.37\n",
            "5     22.42\n",
            "6     21.84\n",
            "7     20.88\n",
            "8     22.28\n",
            "9     22.82\n",
            "10    19.22\n",
            "11    17.26\n",
            "12    20.15\n",
            "Name: AmountSpent, dtype: object\n"
          ]
        }
      ],
      "source": [
        "# Quiz 4: What is the average amount spent by customers per month?\n",
        "customer_data['InvoiceMonth'] = customer_data['InvoiceDate'].dt.month\n",
        "average_amount_spent_per_month = customer_data.groupby('InvoiceMonth')['AmountSpent'].mean()\n",
        "formatted_average_amount_spent_per_month = average_amount_spent_per_month.apply(lambda x: f\"{x:.2f}\")\n",
        "print(\"The average amount spent by customers per month is: \\n\", formatted_average_amount_spent_per_month)"
      ]
    },
    {
      "cell_type": "code",
      "execution_count": 154,
      "metadata": {
        "colab": {
          "base_uri": "https://localhost:8080/",
          "height": 778
        },
        "id": "onwEBrLIpwFt",
        "outputId": "611e1029-2132-4ded-8721-d629b9eb4e56"
      },
      "outputs": [
        {
          "name": "stdout",
          "output_type": "stream",
          "text": [
            "The top 5 leading countries in terms of product volume purchased by customers are: \n",
            " Country\n",
            "United Kingdom    4008533\n",
            "Netherlands        200128\n",
            "EIRE               136329\n",
            "Germany            117448\n",
            "France             109848\n",
            "Name: Quantity, dtype: int64\n"
          ]
        },
        {
          "data": {
            "image/png": "[encoded data removed]",
            "text/plain": [
              "<Figure size 1000x600 with 1 Axes>"
            ]
          },
          "metadata": {},
          "output_type": "display_data"
        }
      ],
      "source": [
        "# Quiz 5:What are the top 5 leading country in terms of product volume purchased by customers?\n",
        "top_5_countries = customer_data.groupby('Country')['Quantity'].sum().nlargest(5)\n",
        "print(\"The top 5 leading countries in terms of product volume purchased by customers are: \\n\", top_5_countries)\n",
        "\n",
        "# visualize the top 5 leading countries in terms of product volume purchased by customers\n",
        "plt.figure(figsize=(10, 6))\n",
        "top_5_countries.plot(kind='bar', color='skyblue')\n",
        "plt.title('Top 5 Leading Countries in Terms of Product Volume Purchased by Customers')\n",
        "plt.xlabel('Country')\n",
        "plt.ylabel('Product Volume')\n",
        "plt.xticks(rotation=45)\n",
        "# save the image\n",
        "plt.savefig('top_5_countries_volume_purchased.png')\n",
        "plt.show()\n",
        "\n"
      ]
    },
    {
      "cell_type": "code",
      "execution_count": 155,
      "metadata": {
        "colab": {
          "base_uri": "https://localhost:8080/",
          "height": 778
        },
        "id": "mcmkeCv_pwFy",
        "outputId": "f6ce4ce1-5df5-414a-f576-9f8e0d3e09c3"
      },
      "outputs": [
        {
          "name": "stdout",
          "output_type": "stream",
          "text": [
            "The top 5 leading countries in terms of amount spent by customers are: \n",
            " Country\n",
            "United Kingdom    6767873.394\n",
            "Netherlands        284661.540\n",
            "EIRE               250285.220\n",
            "Germany            221698.210\n",
            "France             196712.840\n",
            "Name: AmountSpent, dtype: float64\n"
          ]
        },
        {
          "data": {
            "image/png": "[encoded data removed]",
            "text/plain": [
              "<Figure size 1000x600 with 1 Axes>"
            ]
          },
          "metadata": {},
          "output_type": "display_data"
        }
      ],
      "source": [
        "# Quiz 6: What are the top 5 leading countries in terms of amount spent by customers?\n",
        "top_5_countries_amount_spent = customer_data.groupby('Country')['AmountSpent'].sum().nlargest(5)\n",
        "print(\"The top 5 leading countries in terms of amount spent by customers are: \\n\", top_5_countries_amount_spent)\n",
        "\n",
        "# visualize the top 5 leading countries in terms of amount spent by customers\n",
        "plt.figure(figsize=(10, 6))\n",
        "top_5_countries_amount_spent.plot(kind='bar', color='lightgreen')\n",
        "plt.title('Top 5 Leading Countries in Terms of Amount Spent by Customers')\n",
        "plt.xlabel('Country')\n",
        "plt.ylabel('Amount Spent')\n",
        "plt.xticks(rotation=45)\n",
        "# save the image\n",
        "plt.savefig('top_5_countries_amount_spent.png')\n",
        "plt.show()\n"
      ]
    },
    {
      "cell_type": "markdown",
      "metadata": {
        "id": "ayDi8OdnpwF0"
      },
      "source": [
        "# Recency, Frequency & Monetary Computation: Preliminary Customer Segments\n",
        "RFM computation steps involve:\n",
        "\n",
        "a) Calculate RFM metrics:\n",
        "- Recency: Days since the customer's last purchase.\n",
        "- Frequency: Total number of purchases by the customer.\n",
        "- Monetary: Total money spent by the customer.\n",
        "\n",
        "b) Assign RFM scores for each FRM metric\n",
        "\n",
        "c) Segment customers based on RFM scores\n"
      ]
    },
    {
      "cell_type": "code",
      "execution_count": 156,
      "metadata": {
        "colab": {
          "base_uri": "https://localhost:8080/"
        },
        "id": "vu87R1aVpwF1",
        "outputId": "f5993573-884b-4a90-e96f-3be1e9e475de"
      },
      "outputs": [
        {
          "name": "stdout",
          "output_type": "stream",
          "text": [
            "   CustomerID  Recency\n",
            "0     12346.0      325\n",
            "1     12347.0        1\n",
            "2     12348.0       74\n",
            "3     12349.0       18\n",
            "4     12350.0      309\n",
            "5     12352.0       35\n",
            "6     12353.0      203\n",
            "7     12354.0      231\n",
            "8     12355.0      213\n",
            "9     12356.0       22\n"
          ]
        }
      ],
      "source": [
        "# Step 1: Recency of customer purchases\n",
        "\n",
        "# reference date\n",
        "reference_date = customer_data['InvoiceDate'].max()\n",
        "\n",
        "# calculate the recency for each customer\n",
        "recency_df = customer_data.groupby('CustomerID').agg({'InvoiceDate':\\\n",
        "                                                     lambda x: (reference_date - x.max()).days}).reset_index()\n",
        "\n",
        " # Rename columns\n",
        "recency_df.rename(columns={'InvoiceDate': 'Recency'}, inplace=True)\n",
        "print(recency_df.head(10))"
      ]
    },
    {
      "cell_type": "markdown",
      "metadata": {
        "id": "U_-h9321pwF2"
      },
      "source": []
    },
    {
      "cell_type": "code",
      "execution_count": 157,
      "metadata": {
        "colab": {
          "base_uri": "https://localhost:8080/"
        },
        "id": "ITSNRdUApwF3",
        "outputId": "56daacc1-b279-452f-979a-22458224c62b"
      },
      "outputs": [
        {
          "name": "stdout",
          "output_type": "stream",
          "text": [
            "      CustomerID  Recency  Frequency\n",
            "3829     17548.0      217         17\n",
            "3637     17288.0        8        142\n",
            "1618     14530.0       25        216\n",
            "3237     16729.0       35        668\n",
            "4361     18272.0        2        170\n",
            "2843     16187.0       31        297\n",
            "4260     18139.0       16        162\n",
            "1851     14854.0       77        131\n",
            "197      12589.0       28         35\n",
            "1232     14002.0      133         47\n"
          ]
        }
      ],
      "source": [
        "# Step 2: Frequency of customer purchases\n",
        "frequency_df = customer_data.groupby('CustomerID').agg({'InvoiceDate':'count'}).reset_index()\n",
        "frequency_df.rename(columns={'InvoiceDate': 'Frequency'}, inplace=True)\n",
        "\n",
        "# merge with recency_df\n",
        "rf_df = pd.merge(recency_df, frequency_df, on='CustomerID')\n",
        "\n",
        "print(rf_df.sample(10))\n"
      ]
    },
    {
      "cell_type": "code",
      "execution_count": 158,
      "metadata": {
        "colab": {
          "base_uri": "https://localhost:8080/"
        },
        "id": "JNKNmnxJpwGW",
        "outputId": "24993d7e-c678-4f9e-b57d-9ec082fac977"
      },
      "outputs": [
        {
          "name": "stdout",
          "output_type": "stream",
          "text": [
            "      CustomerID  Recency  Frequency  Monetary\n",
            "214      12609.0       77         60   1126.85\n",
            "3474     17049.0        2        322   5594.78\n",
            "2910     16278.0       22         25    537.83\n",
            "4012     17791.0       29         10    106.10\n",
            "2148     15252.0       35         44    740.78\n",
            "1957     15010.0       35         20    308.94\n",
            "563      13080.0      178          6     58.08\n",
            "619      13154.0      143          1   -611.86\n",
            "1302     14099.0       15        252   3092.97\n",
            "1289     14080.0       32          4     45.60\n"
          ]
        }
      ],
      "source": [
        "# Step 3: Monetary value of customer purchases\n",
        "monetary_df = customer_data.groupby('CustomerID').agg({'AmountSpent':'sum'}).reset_index()\n",
        "monetary_df.rename(columns={'AmountSpent': 'Monetary'}, inplace=True)\n",
        "\n",
        "# merge with rf_df\n",
        "rfm_df = pd.merge(rf_df, monetary_df, on='CustomerID')\n",
        "\n",
        "print(rfm_df.sample(10))"
      ]
    },
    {
      "cell_type": "code",
      "execution_count": 159,
      "metadata": {
        "id": "FcdzV9AIpwGb"
      },
      "outputs": [],
      "source": [
        "# drop the CustomerID column from rfm_df\n",
        "rfm_df = rfm_df.drop(columns=['CustomerID'])"
      ]
    },
    {
      "cell_type": "code",
      "execution_count": 160,
      "metadata": {
        "colab": {
          "base_uri": "https://localhost:8080/"
        },
        "id": "P1aK3aeApwGe",
        "outputId": "b2a8e553-f163-4288-a7df-396f1aa38bca"
      },
      "outputs": [
        {
          "name": "stdout",
          "output_type": "stream",
          "text": [
            "      Recency  Frequency  Monetary R_Score F_Score M_Score RFM_Score\n",
            "528        10         99    799.48       4       3       3       433\n",
            "2352       32          4    148.44       3       1       1       311\n",
            "1959       42         35    260.17       3       2       1       321\n",
            "1163       36         26    332.64       3       2       2       322\n",
            "3877       56        100    390.07       2       3       2       232\n",
            "348        16         67   1351.24       4       3       3       433\n",
            "2575      319         17    206.98       1       1       1       111\n",
            "3236       45        269   1054.67       3       4       3       343\n",
            "1750       14        197   4911.14       4       4       4       444\n",
            "4287        6          1    104.00       4       1       1       411\n"
          ]
        }
      ],
      "source": [
        "# Step 4: Calculate the RFM scores\n",
        "rfm_df['R_Score'] = pd.qcut(rfm_df['Recency'], 4, labels=[4, 3, 2, 1])\n",
        "rfm_df['F_Score'] = pd.qcut(rfm_df['Frequency'], 4, labels=[1, 2, 3, 4])\n",
        "rfm_df['M_Score'] = pd.qcut(rfm_df['Monetary'], 4, labels=[1, 2, 3, 4])\n",
        "\n",
        "# Combine RFM Scores\n",
        "rfm_df['RFM_Score'] = rfm_df['R_Score'].astype(str) + rfm_df['F_Score'].astype(str) + rfm_df['M_Score'].astype(str)\n",
        "\n",
        "print(rfm_df.sample(10))"
      ]
    },
    {
      "cell_type": "code",
      "execution_count": 161,
      "metadata": {
        "id": "vx7fZYY9pwHR"
      },
      "outputs": [],
      "source": [
        "# step 5: Segment customers based on RFM scores\n",
        "\n",
        "# function of defining segments\n",
        "def segment_customers(data):\n",
        "    \"\"\"\n",
        "    Segments customers based on their RFM (Recency, Frequency, Monetary) score.\n",
        "\n",
        "    Parameters:\n",
        "    data (dict): A dictionary containing customer data with an 'RFM_Score' key.\n",
        "\n",
        "    Returns:\n",
        "    str: The segment to which the customer belongs. Possible segments include:\n",
        "        - 'Best Customers'\n",
        "        - 'Loyal Customers'\n",
        "        - 'High Spenders'\n",
        "        - 'Almost Lost'\n",
        "        - 'Lost Customers'\n",
        "    \"\"\"\n",
        "    if data['RFM_Score'] in ['444', '443', '434', '433', '344', '343', '334', '333']:\n",
        "        return 'Best Customers'\n",
        "    elif data['RFM_Score'] in ['424', '423', '422', '421', '414', '413', '412', '411', '324', '323', '322', '321', '314', '313', '312', '311']:\n",
        "        return 'Loyal Customers'\n",
        "    elif data['RFM_Score'] in ['244', '243', '234', '233', '144', '143', '134', '133']:\n",
        "        return 'Big Spenders'\n",
        "    elif data['RFM_Score'] in ['224', '223', '222', '221', '214', '213', '212', '211', '124', '123', '122']:\n",
        "        return 'Almost Lost'\n",
        "    else:\n",
        "        return 'Lost Customers'\n",
        "\n",
        "# apply the segment_customers function to the rfm_df\n",
        "rfm_df['Customer_Segment'] = rfm_df.apply(segment_customers, axis=1)"
      ]
    },
    {
      "cell_type": "code",
      "execution_count": 162,
      "metadata": {
        "colab": {
          "base_uri": "https://localhost:8080/"
        },
        "id": "vVduqWffpwHT",
        "outputId": "dd9ef182-5f24-484d-eb58-8f3f22f7ab63"
      },
      "outputs": [
        {
          "name": "stdout",
          "output_type": "stream",
          "text": [
            "   Recency  Frequency  Monetary R_Score F_Score M_Score RFM_Score  \\\n",
            "0      325          2      0.00       1       1       1       111   \n",
            "1        1        182   4310.00       4       4       4       444   \n",
            "2       74         31   1797.24       2       2       4       224   \n",
            "3       18         73   1757.55       3       3       4       334   \n",
            "4      309         17    334.40       1       1       2       112   \n",
            "5       35         95   1545.41       3       3       3       333   \n",
            "6      203          4     89.00       1       1       1       111   \n",
            "7      231         58   1079.40       1       3       3       133   \n",
            "8      213         13    459.40       1       1       2       112   \n",
            "9       22         59   2811.43       3       3       4       334   \n",
            "\n",
            "  Customer_Segment  \n",
            "0   Lost Customers  \n",
            "1   Best Customers  \n",
            "2      Almost Lost  \n",
            "3   Best Customers  \n",
            "4   Lost Customers  \n",
            "5   Best Customers  \n",
            "6   Lost Customers  \n",
            "7     Big Spenders  \n",
            "8   Lost Customers  \n",
            "9   Best Customers  \n"
          ]
        }
      ],
      "source": [
        "# display the first 10 records\n",
        "print(rfm_df.head(10))"
      ]
    },
    {
      "cell_type": "code",
      "execution_count": 163,
      "metadata": {
        "colab": {
          "base_uri": "https://localhost:8080/",
          "height": 472
        },
        "id": "MKwZcpYbpwHh",
        "outputId": "bb66e58a-c739-457e-a60e-4b7b2215e4c7"
      },
      "outputs": [
        {
          "data": {
            "image/png": "[encoded data removed]",
            "text/plain": [
              "<Figure size 640x480 with 1 Axes>"
            ]
          },
          "metadata": {},
          "output_type": "display_data"
        }
      ],
      "source": [
        "# Step 6: Analyze customer segments\n",
        "segment_counts = rfm_df['Customer_Segment'].value_counts()\n",
        "sns.countplot(y='Customer_Segment', data=rfm_df, order=segment_counts.index)\n",
        "plt.title('Customer Segments')\n",
        "plt.xlabel('Number of Customers')\n",
        "\n",
        "# save the image\n",
        "plt.savefig('rfm_customer_segments.png')\n",
        "plt.show()"
      ]
    },
    {
      "cell_type": "code",
      "execution_count": 164,
      "metadata": {
        "id": "_-qPaAevpwHk"
      },
      "outputs": [],
      "source": [
        "# save the rfm_df to a csv file\n",
        "rfm_df.to_csv('rfm_data.csv', index=False)"
      ]
    },
    {
      "cell_type": "markdown",
      "metadata": {
        "id": "7IfCDSp0pwHk"
      },
      "source": [
        "# Building Customer Segments based on Customer Segmentation Model\n",
        "In this phase, we will be creating a customer sgemention model, based on K-Means clustering algorithim.\n",
        "\n",
        "The goal of a K-Means clustering model is to segment all the data available into non-overlapping sub-groups that are distinct from each other.\n",
        "\n",
        "Key steps to be executed:\n",
        "1. Select features that will be used to build the model\n",
        "2. Check for outliers and remove them\n",
        "3. Standardization of key features to be used in creating the segmentation model\n",
        "4. Building segmentation model"
      ]
    },
    {
      "cell_type": "code",
      "execution_count": 165,
      "metadata": {
        "colab": {
          "base_uri": "https://localhost:8080/",
          "height": 206
        },
        "id": "U5goXDxKpwHm",
        "outputId": "c71eef86-f251-49e0-f6f1-2f6056e0c3bc"
      },
      "outputs": [
        {
          "data": {
            "application/vnd.google.colaboratory.intrinsic+json": {
              "summary": "{\n  \"name\": \"df\",\n  \"rows\": 5,\n  \"fields\": [\n    {\n      \"column\": \"Recency\",\n      \"properties\": {\n        \"dtype\": \"number\",\n        \"std\": 98,\n        \"min\": 9,\n        \"max\": 241,\n        \"num_unique_values\": 5,\n        \"samples\": [\n          24,\n          51,\n          14\n        ],\n        \"semantic_type\": \"\",\n        \"description\": \"\"\n      }\n    },\n    {\n      \"column\": \"Frequency\",\n      \"properties\": {\n        \"dtype\": \"number\",\n        \"std\": 242,\n        \"min\": 78,\n        \"max\": 662,\n        \"num_unique_values\": 5,\n        \"samples\": [\n          276,\n          78,\n          81\n        ],\n        \"semantic_type\": \"\",\n        \"description\": \"\"\n      }\n    },\n    {\n      \"column\": \"Monetary\",\n      \"properties\": {\n        \"dtype\": \"number\",\n        \"std\": 984.9424349676483,\n        \"min\": 1121.21,\n        \"max\": 3506.54,\n        \"num_unique_values\": 5,\n        \"samples\": [\n          2124.9900000000002,\n          3506.54,\n          1121.21\n        ],\n        \"semantic_type\": \"\",\n        \"description\": \"\"\n      }\n    }\n  ]\n}",
              "type": "dataframe"
            },
            "text/html": [
              "\n",
              "  <div id=\"df-5d96446f-d5b2-42d2-ac6a-cb54c11892b0\" class=\"colab-df-container\">\n",
              "    <div>\n",
              "<style scoped>\n",
              "    .dataframe tbody tr th:only-of-type {\n",
              "        vertical-align: middle;\n",
              "    }\n",
              "\n",
              "    .dataframe tbody tr th {\n",
              "        vertical-align: top;\n",
              "    }\n",
              "\n",
              "    .dataframe thead th {\n",
              "        text-align: right;\n",
              "    }\n",
              "</style>\n",
              "<table border=\"1\" class=\"dataframe\">\n",
              "  <thead>\n",
              "    <tr style=\"text-align: right;\">\n",
              "      <th></th>\n",
              "      <th>Recency</th>\n",
              "      <th>Frequency</th>\n",
              "      <th>Monetary</th>\n",
              "    </tr>\n",
              "  </thead>\n",
              "  <tbody>\n",
              "    <tr>\n",
              "      <th>1721</th>\n",
              "      <td>241</td>\n",
              "      <td>170</td>\n",
              "      <td>1269.99</td>\n",
              "    </tr>\n",
              "    <tr>\n",
              "      <th>1996</th>\n",
              "      <td>24</td>\n",
              "      <td>276</td>\n",
              "      <td>2124.99</td>\n",
              "    </tr>\n",
              "    <tr>\n",
              "      <th>2512</th>\n",
              "      <td>14</td>\n",
              "      <td>81</td>\n",
              "      <td>1121.21</td>\n",
              "    </tr>\n",
              "    <tr>\n",
              "      <th>2883</th>\n",
              "      <td>9</td>\n",
              "      <td>662</td>\n",
              "      <td>2607.87</td>\n",
              "    </tr>\n",
              "    <tr>\n",
              "      <th>2797</th>\n",
              "      <td>51</td>\n",
              "      <td>78</td>\n",
              "      <td>3506.54</td>\n",
              "    </tr>\n",
              "  </tbody>\n",
              "</table>\n",
              "</div>\n",
              "    <div class=\"colab-df-buttons\">\n",
              "\n",
              "  <div class=\"colab-df-container\">\n",
              "    <button class=\"colab-df-convert\" onclick=\"convertToInteractive('df-5d96446f-d5b2-42d2-ac6a-cb54c11892b0')\"\n",
              "            title=\"Convert this dataframe to an interactive table.\"\n",
              "            style=\"display:none;\">\n",
              "\n",
              "  <svg xmlns=\"http://www.w3.org/2000/svg\" height=\"24px\" viewBox=\"0 -960 960 960\">\n",
              "    <path d=\"M120-120v-720h720v720H120Zm60-500h600v-160H180v160Zm220 220h160v-160H400v160Zm0 220h160v-160H400v160ZM180-400h160v-160H180v160Zm440 0h160v-160H620v160ZM180-180h160v-160H180v160Zm440 0h160v-160H620v160Z\"/>\n",
              "  </svg>\n",
              "    </button>\n",
              "\n",
              "  <style>\n",
              "    .colab-df-container {\n",
              "      display:flex;\n",
              "      gap: 12px;\n",
              "    }\n",
              "\n",
              "    .colab-df-convert {\n",
              "      background-color: #E8F0FE;\n",
              "      border: none;\n",
              "      border-radius: 50%;\n",
              "      cursor: pointer;\n",
              "      display: none;\n",
              "      fill: #1967D2;\n",
              "      height: 32px;\n",
              "      padding: 0 0 0 0;\n",
              "      width: 32px;\n",
              "    }\n",
              "\n",
              "    .colab-df-convert:hover {\n",
              "      background-color: #E2EBFA;\n",
              "      box-shadow: 0px 1px 2px rgba(60, 64, 67, 0.3), 0px 1px 3px 1px rgba(60, 64, 67, 0.15);\n",
              "      fill: #174EA6;\n",
              "    }\n",
              "\n",
              "    .colab-df-buttons div {\n",
              "      margin-bottom: 4px;\n",
              "    }\n",
              "\n",
              "    [theme=dark] .colab-df-convert {\n",
              "      background-color: #3B4455;\n",
              "      fill: #D2E3FC;\n",
              "    }\n",
              "\n",
              "    [theme=dark] .colab-df-convert:hover {\n",
              "      background-color: #434B5C;\n",
              "      box-shadow: 0px 1px 3px 1px rgba(0, 0, 0, 0.15);\n",
              "      filter: drop-shadow(0px 1px 2px rgba(0, 0, 0, 0.3));\n",
              "      fill: #FFFFFF;\n",
              "    }\n",
              "  </style>\n",
              "\n",
              "    <script>\n",
              "      const buttonEl =\n",
              "        document.querySelector('#df-5d96446f-d5b2-42d2-ac6a-cb54c11892b0 button.colab-df-convert');\n",
              "      buttonEl.style.display =\n",
              "        google.colab.kernel.accessAllowed ? 'block' : 'none';\n",
              "\n",
              "      async function convertToInteractive(key) {\n",
              "        const element = document.querySelector('#df-5d96446f-d5b2-42d2-ac6a-cb54c11892b0');\n",
              "        const dataTable =\n",
              "          await google.colab.kernel.invokeFunction('convertToInteractive',\n",
              "                                                    [key], {});\n",
              "        if (!dataTable) return;\n",
              "\n",
              "        const docLinkHtml = 'Like what you see? Visit the ' +\n",
              "          '<a target=\"_blank\" href=https://colab.research.google.com/notebooks/data_table.ipynb>data table notebook</a>'\n",
              "          + ' to learn more about interactive tables.';\n",
              "        element.innerHTML = '';\n",
              "        dataTable['output_type'] = 'display_data';\n",
              "        await google.colab.output.renderOutput(dataTable, element);\n",
              "        const docLink = document.createElement('div');\n",
              "        docLink.innerHTML = docLinkHtml;\n",
              "        element.appendChild(docLink);\n",
              "      }\n",
              "    </script>\n",
              "  </div>\n",
              "\n",
              "\n",
              "<div id=\"df-a29e5d1b-1e58-477e-a594-fdee61fb88ef\">\n",
              "  <button class=\"colab-df-quickchart\" onclick=\"quickchart('df-a29e5d1b-1e58-477e-a594-fdee61fb88ef')\"\n",
              "            title=\"Suggest charts\"\n",
              "            style=\"display:none;\">\n",
              "\n",
              "<svg xmlns=\"http://www.w3.org/2000/svg\" height=\"24px\"viewBox=\"0 0 24 24\"\n",
              "     width=\"24px\">\n",
              "    <g>\n",
              "        <path d=\"M19 3H5c-1.1 0-2 .9-2 2v14c0 1.1.9 2 2 2h14c1.1 0 2-.9 2-2V5c0-1.1-.9-2-2-2zM9 17H7v-7h2v7zm4 0h-2V7h2v10zm4 0h-2v-4h2v4z\"/>\n",
              "    </g>\n",
              "</svg>\n",
              "  </button>\n",
              "\n",
              "<style>\n",
              "  .colab-df-quickchart {\n",
              "      --bg-color: #E8F0FE;\n",
              "      --fill-color: #1967D2;\n",
              "      --hover-bg-color: #E2EBFA;\n",
              "      --hover-fill-color: #174EA6;\n",
              "      --disabled-fill-color: #AAA;\n",
              "      --disabled-bg-color: #DDD;\n",
              "  }\n",
              "\n",
              "  [theme=dark] .colab-df-quickchart {\n",
              "      --bg-color: #3B4455;\n",
              "      --fill-color: #D2E3FC;\n",
              "      --hover-bg-color: #434B5C;\n",
              "      --hover-fill-color: #FFFFFF;\n",
              "      --disabled-bg-color: #3B4455;\n",
              "      --disabled-fill-color: #666;\n",
              "  }\n",
              "\n",
              "  .colab-df-quickchart {\n",
              "    background-color: var(--bg-color);\n",
              "    border: none;\n",
              "    border-radius: 50%;\n",
              "    cursor: pointer;\n",
              "    display: none;\n",
              "    fill: var(--fill-color);\n",
              "    height: 32px;\n",
              "    padding: 0;\n",
              "    width: 32px;\n",
              "  }\n",
              "\n",
              "  .colab-df-quickchart:hover {\n",
              "    background-color: var(--hover-bg-color);\n",
              "    box-shadow: 0 1px 2px rgba(60, 64, 67, 0.3), 0 1px 3px 1px rgba(60, 64, 67, 0.15);\n",
              "    fill: var(--button-hover-fill-color);\n",
              "  }\n",
              "\n",
              "  .colab-df-quickchart-complete:disabled,\n",
              "  .colab-df-quickchart-complete:disabled:hover {\n",
              "    background-color: var(--disabled-bg-color);\n",
              "    fill: var(--disabled-fill-color);\n",
              "    box-shadow: none;\n",
              "  }\n",
              "\n",
              "  .colab-df-spinner {\n",
              "    border: 2px solid var(--fill-color);\n",
              "    border-color: transparent;\n",
              "    border-bottom-color: var(--fill-color);\n",
              "    animation:\n",
              "      spin 1s steps(1) infinite;\n",
              "  }\n",
              "\n",
              "  @keyframes spin {\n",
              "    0% {\n",
              "      border-color: transparent;\n",
              "      border-bottom-color: var(--fill-color);\n",
              "      border-left-color: var(--fill-color);\n",
              "    }\n",
              "    20% {\n",
              "      border-color: transparent;\n",
              "      border-left-color: var(--fill-color);\n",
              "      border-top-color: var(--fill-color);\n",
              "    }\n",
              "    30% {\n",
              "      border-color: transparent;\n",
              "      border-left-color: var(--fill-color);\n",
              "      border-top-color: var(--fill-color);\n",
              "      border-right-color: var(--fill-color);\n",
              "    }\n",
              "    40% {\n",
              "      border-color: transparent;\n",
              "      border-right-color: var(--fill-color);\n",
              "      border-top-color: var(--fill-color);\n",
              "    }\n",
              "    60% {\n",
              "      border-color: transparent;\n",
              "      border-right-color: var(--fill-color);\n",
              "    }\n",
              "    80% {\n",
              "      border-color: transparent;\n",
              "      border-right-color: var(--fill-color);\n",
              "      border-bottom-color: var(--fill-color);\n",
              "    }\n",
              "    90% {\n",
              "      border-color: transparent;\n",
              "      border-bottom-color: var(--fill-color);\n",
              "    }\n",
              "  }\n",
              "</style>\n",
              "\n",
              "  <script>\n",
              "    async function quickchart(key) {\n",
              "      const quickchartButtonEl =\n",
              "        document.querySelector('#' + key + ' button');\n",
              "      quickchartButtonEl.disabled = true;  // To prevent multiple clicks.\n",
              "      quickchartButtonEl.classList.add('colab-df-spinner');\n",
              "      try {\n",
              "        const charts = await google.colab.kernel.invokeFunction(\n",
              "            'suggestCharts', [key], {});\n",
              "      } catch (error) {\n",
              "        console.error('Error during call to suggestCharts:', error);\n",
              "      }\n",
              "      quickchartButtonEl.classList.remove('colab-df-spinner');\n",
              "      quickchartButtonEl.classList.add('colab-df-quickchart-complete');\n",
              "    }\n",
              "    (() => {\n",
              "      let quickchartButtonEl =\n",
              "        document.querySelector('#df-a29e5d1b-1e58-477e-a594-fdee61fb88ef button');\n",
              "      quickchartButtonEl.style.display =\n",
              "        google.colab.kernel.accessAllowed ? 'block' : 'none';\n",
              "    })();\n",
              "  </script>\n",
              "</div>\n",
              "\n",
              "    </div>\n",
              "  </div>\n"
            ],
            "text/plain": [
              "      Recency  Frequency  Monetary\n",
              "1721      241        170   1269.99\n",
              "1996       24        276   2124.99\n",
              "2512       14         81   1121.21\n",
              "2883        9        662   2607.87\n",
              "2797       51         78   3506.54"
            ]
          },
          "execution_count": 165,
          "metadata": {},
          "output_type": "execute_result"
        }
      ],
      "source": [
        "# Step 1:   Select 3 columns from the rfm_df\n",
        "df = rfm_df[['Recency', 'Frequency', 'Monetary']]\n",
        "df.sample(5)"
      ]
    },
    {
      "cell_type": "code",
      "execution_count": 166,
      "metadata": {
        "colab": {
          "base_uri": "https://localhost:8080/",
          "height": 299
        },
        "id": "XQNOoZb9pwHu",
        "outputId": "9211d76f-8303-4b8e-8a98-d2cfab26825a"
      },
      "outputs": [
        {
          "data": {
            "image/png": "[encoded data removed]",
            "text/plain": [
              "<Figure size 1500x500 with 3 Axes>"
            ]
          },
          "metadata": {},
          "output_type": "display_data"
        }
      ],
      "source": [
        "# Step 2: Check for outliers\n",
        "items = ['Recency', 'Frequency', 'Monetary']\n",
        "plt.figure(figsize=(15, 5))\n",
        "for i in range(len(items)):\n",
        "    plt.subplot(1, 3, i+1)\n",
        "    sns.boxplot(df[items[i]])\n",
        "    plt.title(f'Boxplot of {items[i]}')\n",
        "    plt.xlabel(items[i])\n",
        "plt.tight_layout()\n",
        "plt.savefig('rfm_outliers.png')\n",
        "plt.show()\n"
      ]
    },
    {
      "cell_type": "markdown",
      "metadata": {
        "id": "QMdU3GQkpwHv"
      },
      "source": [
        "Based on above visual:\n",
        "- `Recency` is the only variable with no visible outliers. `Frequency` and `Monetary`, on the other hand, have many outliers that should be removed"
      ]
    },
    {
      "cell_type": "code",
      "execution_count": 167,
      "metadata": {
        "colab": {
          "base_uri": "https://localhost:8080/",
          "height": 206
        },
        "id": "ifi_KqDupwHw",
        "outputId": "a0d6dcdc-b686-42ea-a0ef-c507c4f27e0a"
      },
      "outputs": [
        {
          "data": {
            "application/vnd.google.colaboratory.intrinsic+json": {
              "summary": "{\n  \"name\": \"df\",\n  \"rows\": 4321,\n  \"fields\": [\n    {\n      \"column\": \"Recency\",\n      \"properties\": {\n        \"dtype\": \"number\",\n        \"std\": 100,\n        \"min\": 0,\n        \"max\": 373,\n        \"num_unique_values\": 349,\n        \"samples\": [\n          147,\n          339,\n          269\n        ],\n        \"semantic_type\": \"\",\n        \"description\": \"\"\n      }\n    },\n    {\n      \"column\": \"Frequency\",\n      \"properties\": {\n        \"dtype\": \"number\",\n        \"std\": 104,\n        \"min\": 1,\n        \"max\": 757,\n        \"num_unique_values\": 439,\n        \"samples\": [\n          138,\n          264,\n          523\n        ],\n        \"semantic_type\": \"\",\n        \"description\": \"\"\n      }\n    },\n    {\n      \"column\": \"Monetary\",\n      \"properties\": {\n        \"dtype\": \"number\",\n        \"std\": 2153.139686616156,\n        \"min\": -4287.63,\n        \"max\": 25748.350000000002,\n        \"num_unique_values\": 4237,\n        \"samples\": [\n          654.92,\n          992.5,\n          276.73\n        ],\n        \"semantic_type\": \"\",\n        \"description\": \"\"\n      }\n    }\n  ]\n}",
              "type": "dataframe",
              "variable_name": "df"
            },
            "text/html": [
              "\n",
              "  <div id=\"df-77664626-d197-4c2e-9d15-36d3711b02b2\" class=\"colab-df-container\">\n",
              "    <div>\n",
              "<style scoped>\n",
              "    .dataframe tbody tr th:only-of-type {\n",
              "        vertical-align: middle;\n",
              "    }\n",
              "\n",
              "    .dataframe tbody tr th {\n",
              "        vertical-align: top;\n",
              "    }\n",
              "\n",
              "    .dataframe thead th {\n",
              "        text-align: right;\n",
              "    }\n",
              "</style>\n",
              "<table border=\"1\" class=\"dataframe\">\n",
              "  <thead>\n",
              "    <tr style=\"text-align: right;\">\n",
              "      <th></th>\n",
              "      <th>Recency</th>\n",
              "      <th>Frequency</th>\n",
              "      <th>Monetary</th>\n",
              "    </tr>\n",
              "  </thead>\n",
              "  <tbody>\n",
              "    <tr>\n",
              "      <th>0</th>\n",
              "      <td>325</td>\n",
              "      <td>2</td>\n",
              "      <td>0.00</td>\n",
              "    </tr>\n",
              "    <tr>\n",
              "      <th>1</th>\n",
              "      <td>1</td>\n",
              "      <td>182</td>\n",
              "      <td>4310.00</td>\n",
              "    </tr>\n",
              "    <tr>\n",
              "      <th>2</th>\n",
              "      <td>74</td>\n",
              "      <td>31</td>\n",
              "      <td>1797.24</td>\n",
              "    </tr>\n",
              "    <tr>\n",
              "      <th>3</th>\n",
              "      <td>18</td>\n",
              "      <td>73</td>\n",
              "      <td>1757.55</td>\n",
              "    </tr>\n",
              "    <tr>\n",
              "      <th>4</th>\n",
              "      <td>309</td>\n",
              "      <td>17</td>\n",
              "      <td>334.40</td>\n",
              "    </tr>\n",
              "  </tbody>\n",
              "</table>\n",
              "</div>\n",
              "    <div class=\"colab-df-buttons\">\n",
              "\n",
              "  <div class=\"colab-df-container\">\n",
              "    <button class=\"colab-df-convert\" onclick=\"convertToInteractive('df-77664626-d197-4c2e-9d15-36d3711b02b2')\"\n",
              "            title=\"Convert this dataframe to an interactive table.\"\n",
              "            style=\"display:none;\">\n",
              "\n",
              "  <svg xmlns=\"http://www.w3.org/2000/svg\" height=\"24px\" viewBox=\"0 -960 960 960\">\n",
              "    <path d=\"M120-120v-720h720v720H120Zm60-500h600v-160H180v160Zm220 220h160v-160H400v160Zm0 220h160v-160H400v160ZM180-400h160v-160H180v160Zm440 0h160v-160H620v160ZM180-180h160v-160H180v160Zm440 0h160v-160H620v160Z\"/>\n",
              "  </svg>\n",
              "    </button>\n",
              "\n",
              "  <style>\n",
              "    .colab-df-container {\n",
              "      display:flex;\n",
              "      gap: 12px;\n",
              "    }\n",
              "\n",
              "    .colab-df-convert {\n",
              "      background-color: #E8F0FE;\n",
              "      border: none;\n",
              "      border-radius: 50%;\n",
              "      cursor: pointer;\n",
              "      display: none;\n",
              "      fill: #1967D2;\n",
              "      height: 32px;\n",
              "      padding: 0 0 0 0;\n",
              "      width: 32px;\n",
              "    }\n",
              "\n",
              "    .colab-df-convert:hover {\n",
              "      background-color: #E2EBFA;\n",
              "      box-shadow: 0px 1px 2px rgba(60, 64, 67, 0.3), 0px 1px 3px 1px rgba(60, 64, 67, 0.15);\n",
              "      fill: #174EA6;\n",
              "    }\n",
              "\n",
              "    .colab-df-buttons div {\n",
              "      margin-bottom: 4px;\n",
              "    }\n",
              "\n",
              "    [theme=dark] .colab-df-convert {\n",
              "      background-color: #3B4455;\n",
              "      fill: #D2E3FC;\n",
              "    }\n",
              "\n",
              "    [theme=dark] .colab-df-convert:hover {\n",
              "      background-color: #434B5C;\n",
              "      box-shadow: 0px 1px 3px 1px rgba(0, 0, 0, 0.15);\n",
              "      filter: drop-shadow(0px 1px 2px rgba(0, 0, 0, 0.3));\n",
              "      fill: #FFFFFF;\n",
              "    }\n",
              "  </style>\n",
              "\n",
              "    <script>\n",
              "      const buttonEl =\n",
              "        document.querySelector('#df-77664626-d197-4c2e-9d15-36d3711b02b2 button.colab-df-convert');\n",
              "      buttonEl.style.display =\n",
              "        google.colab.kernel.accessAllowed ? 'block' : 'none';\n",
              "\n",
              "      async function convertToInteractive(key) {\n",
              "        const element = document.querySelector('#df-77664626-d197-4c2e-9d15-36d3711b02b2');\n",
              "        const dataTable =\n",
              "          await google.colab.kernel.invokeFunction('convertToInteractive',\n",
              "                                                    [key], {});\n",
              "        if (!dataTable) return;\n",
              "\n",
              "        const docLinkHtml = 'Like what you see? Visit the ' +\n",
              "          '<a target=\"_blank\" href=https://colab.research.google.com/notebooks/data_table.ipynb>data table notebook</a>'\n",
              "          + ' to learn more about interactive tables.';\n",
              "        element.innerHTML = '';\n",
              "        dataTable['output_type'] = 'display_data';\n",
              "        await google.colab.output.renderOutput(dataTable, element);\n",
              "        const docLink = document.createElement('div');\n",
              "        docLink.innerHTML = docLinkHtml;\n",
              "        element.appendChild(docLink);\n",
              "      }\n",
              "    </script>\n",
              "  </div>\n",
              "\n",
              "\n",
              "<div id=\"df-c78552f9-6f54-4e7d-b715-2c858821f06d\">\n",
              "  <button class=\"colab-df-quickchart\" onclick=\"quickchart('df-c78552f9-6f54-4e7d-b715-2c858821f06d')\"\n",
              "            title=\"Suggest charts\"\n",
              "            style=\"display:none;\">\n",
              "\n",
              "<svg xmlns=\"http://www.w3.org/2000/svg\" height=\"24px\"viewBox=\"0 0 24 24\"\n",
              "     width=\"24px\">\n",
              "    <g>\n",
              "        <path d=\"M19 3H5c-1.1 0-2 .9-2 2v14c0 1.1.9 2 2 2h14c1.1 0 2-.9 2-2V5c0-1.1-.9-2-2-2zM9 17H7v-7h2v7zm4 0h-2V7h2v10zm4 0h-2v-4h2v4z\"/>\n",
              "    </g>\n",
              "</svg>\n",
              "  </button>\n",
              "\n",
              "<style>\n",
              "  .colab-df-quickchart {\n",
              "      --bg-color: #E8F0FE;\n",
              "      --fill-color: #1967D2;\n",
              "      --hover-bg-color: #E2EBFA;\n",
              "      --hover-fill-color: #174EA6;\n",
              "      --disabled-fill-color: #AAA;\n",
              "      --disabled-bg-color: #DDD;\n",
              "  }\n",
              "\n",
              "  [theme=dark] .colab-df-quickchart {\n",
              "      --bg-color: #3B4455;\n",
              "      --fill-color: #D2E3FC;\n",
              "      --hover-bg-color: #434B5C;\n",
              "      --hover-fill-color: #FFFFFF;\n",
              "      --disabled-bg-color: #3B4455;\n",
              "      --disabled-fill-color: #666;\n",
              "  }\n",
              "\n",
              "  .colab-df-quickchart {\n",
              "    background-color: var(--bg-color);\n",
              "    border: none;\n",
              "    border-radius: 50%;\n",
              "    cursor: pointer;\n",
              "    display: none;\n",
              "    fill: var(--fill-color);\n",
              "    height: 32px;\n",
              "    padding: 0;\n",
              "    width: 32px;\n",
              "  }\n",
              "\n",
              "  .colab-df-quickchart:hover {\n",
              "    background-color: var(--hover-bg-color);\n",
              "    box-shadow: 0 1px 2px rgba(60, 64, 67, 0.3), 0 1px 3px 1px rgba(60, 64, 67, 0.15);\n",
              "    fill: var(--button-hover-fill-color);\n",
              "  }\n",
              "\n",
              "  .colab-df-quickchart-complete:disabled,\n",
              "  .colab-df-quickchart-complete:disabled:hover {\n",
              "    background-color: var(--disabled-bg-color);\n",
              "    fill: var(--disabled-fill-color);\n",
              "    box-shadow: none;\n",
              "  }\n",
              "\n",
              "  .colab-df-spinner {\n",
              "    border: 2px solid var(--fill-color);\n",
              "    border-color: transparent;\n",
              "    border-bottom-color: var(--fill-color);\n",
              "    animation:\n",
              "      spin 1s steps(1) infinite;\n",
              "  }\n",
              "\n",
              "  @keyframes spin {\n",
              "    0% {\n",
              "      border-color: transparent;\n",
              "      border-bottom-color: var(--fill-color);\n",
              "      border-left-color: var(--fill-color);\n",
              "    }\n",
              "    20% {\n",
              "      border-color: transparent;\n",
              "      border-left-color: var(--fill-color);\n",
              "      border-top-color: var(--fill-color);\n",
              "    }\n",
              "    30% {\n",
              "      border-color: transparent;\n",
              "      border-left-color: var(--fill-color);\n",
              "      border-top-color: var(--fill-color);\n",
              "      border-right-color: var(--fill-color);\n",
              "    }\n",
              "    40% {\n",
              "      border-color: transparent;\n",
              "      border-right-color: var(--fill-color);\n",
              "      border-top-color: var(--fill-color);\n",
              "    }\n",
              "    60% {\n",
              "      border-color: transparent;\n",
              "      border-right-color: var(--fill-color);\n",
              "    }\n",
              "    80% {\n",
              "      border-color: transparent;\n",
              "      border-right-color: var(--fill-color);\n",
              "      border-bottom-color: var(--fill-color);\n",
              "    }\n",
              "    90% {\n",
              "      border-color: transparent;\n",
              "      border-bottom-color: var(--fill-color);\n",
              "    }\n",
              "  }\n",
              "</style>\n",
              "\n",
              "  <script>\n",
              "    async function quickchart(key) {\n",
              "      const quickchartButtonEl =\n",
              "        document.querySelector('#' + key + ' button');\n",
              "      quickchartButtonEl.disabled = true;  // To prevent multiple clicks.\n",
              "      quickchartButtonEl.classList.add('colab-df-spinner');\n",
              "      try {\n",
              "        const charts = await google.colab.kernel.invokeFunction(\n",
              "            'suggestCharts', [key], {});\n",
              "      } catch (error) {\n",
              "        console.error('Error during call to suggestCharts:', error);\n",
              "      }\n",
              "      quickchartButtonEl.classList.remove('colab-df-spinner');\n",
              "      quickchartButtonEl.classList.add('colab-df-quickchart-complete');\n",
              "    }\n",
              "    (() => {\n",
              "      let quickchartButtonEl =\n",
              "        document.querySelector('#df-c78552f9-6f54-4e7d-b715-2c858821f06d button');\n",
              "      quickchartButtonEl.style.display =\n",
              "        google.colab.kernel.accessAllowed ? 'block' : 'none';\n",
              "    })();\n",
              "  </script>\n",
              "</div>\n",
              "\n",
              "    </div>\n",
              "  </div>\n"
            ],
            "text/plain": [
              "   Recency  Frequency  Monetary\n",
              "0      325          2      0.00\n",
              "1        1        182   4310.00\n",
              "2       74         31   1797.24\n",
              "3       18         73   1757.55\n",
              "4      309         17    334.40"
            ]
          },
          "execution_count": 167,
          "metadata": {},
          "output_type": "execute_result"
        }
      ],
      "source": [
        "from sklearn.preprocessing import StandardScaler\n",
        "from scipy import stats\n",
        "# Handle outliers using z-score\n",
        "z_scores = stats.zscore(df)\n",
        "abs_z_scores = np.abs(z_scores)\n",
        "filtered_entries = (abs_z_scores < 3).all(axis=1) #remove every data point with a Z-Score >=3\n",
        "df = df[filtered_entries]\n",
        "\n",
        "df.head()"
      ]
    },
    {
      "cell_type": "code",
      "execution_count": 168,
      "metadata": {
        "colab": {
          "base_uri": "https://localhost:8080/"
        },
        "id": "eVPzL7_0rj_1",
        "outputId": "c52df16c-3c59-48f9-fe28-1addb253007d"
      },
      "outputs": [
        {
          "name": "stdout",
          "output_type": "stream",
          "text": [
            "    Recency  Frequency  Monetary\n",
            "0  2.308286  -0.741932 -0.634869\n",
            "1 -0.902112   0.984789  1.367090\n",
            "2 -0.178782  -0.463738  0.199934\n",
            "3 -0.733666  -0.060836  0.181498\n",
            "4  2.149747  -0.598039 -0.479543\n"
          ]
        }
      ],
      "source": [
        "# Step 3: Standardize the data\n",
        "scaler = StandardScaler()\n",
        "df_scaled = scaler.fit_transform(df)\n",
        "\n",
        "# Convert the scaled data back to a DataFrame\n",
        "df_scaled = pd.DataFrame(df_scaled, columns=['Recency', 'Frequency', 'Monetary'])\n",
        "\n",
        "print(df_scaled.head())"
      ]
    },
    {
      "cell_type": "code",
      "execution_count": 169,
      "metadata": {
        "colab": {
          "base_uri": "https://localhost:8080/",
          "height": 456
        },
        "id": "n8hEHY85tgy-",
        "outputId": "0ff9829d-87fc-4f4c-8cbf-b5ebd5cde947"
      },
      "outputs": [
        {
          "data": {
            "image/png": "[encoded data removed]",
            "text/plain": [
              "<Figure size 1200x600 with 1 Axes>"
            ]
          },
          "metadata": {},
          "output_type": "display_data"
        }
      ],
      "source": [
        "# Step 4: Build segmentation model\n",
        "from sklearn.datasets import make_blobs\n",
        "from sklearn.cluster import KMeans\n",
        "from sklearn.metrics import silhouette_score\n",
        "from sklearn.decomposition import PCA\n",
        "from mpl_toolkits.mplot3d import Axes3D\n",
        "\n",
        "\n",
        "SSE = [] #initialize empty list\n",
        "\n",
        "# instantiate and fit model to df_scaled\n",
        "for cluster in range(1,10):\n",
        "    kmeans = KMeans(n_clusters = cluster, init='k-means++')\n",
        "    kmeans.fit(df_scaled)\n",
        "    SSE.append(kmeans.inertia_)\n",
        "\n",
        "# converting the results into a dataframe and visualize\n",
        "frame = pd.DataFrame({'Cluster':range(1,10), 'SSE':SSE})\n",
        "plt.figure(figsize=(12,6))\n",
        "plt.plot(frame['Cluster'], frame['SSE'], marker='o')\n",
        "plt.xlabel('Number of clusters')\n",
        "plt.ylabel('Inertia')\n",
        "plt.savefig('elbow_method.png')\n",
        "plt.show()\n"
      ]
    },
    {
      "cell_type": "markdown",
      "metadata": {
        "id": "TG2uBB5RvWJ1"
      },
      "source": [
        "**Interpretation of Results of Visual:**\n",
        "\n",
        "The \"elbow\" point on the curve usually indicates a good balance between minimizing SSE and having a reasonable number of clusters.\n",
        "\n",
        "In our case, the \"elbow\"  is at the 3-cluster mark.\n",
        "\n",
        "This means that the optimal number of clusters to use in this K-Means algorithm is 3.\n",
        "\n",
        "Let’s now build the model with 3 clusters:"
      ]
    },
    {
      "cell_type": "code",
      "execution_count": 170,
      "metadata": {
        "colab": {
          "base_uri": "https://localhost:8080/",
          "height": 80
        },
        "id": "L_6AwI18vuGV",
        "outputId": "bf0fe0cb-752f-48bf-ddb5-b51e2950769c"
      },
      "outputs": [
        {
          "data": {
            "text/html": [
              "<style>#sk-container-id-3 {\n",
              "  /* Definition of color scheme common for light and dark mode */\n",
              "  --sklearn-color-text: #000;\n",
              "  --sklearn-color-text-muted: #666;\n",
              "  --sklearn-color-line: gray;\n",
              "  /* Definition of color scheme for unfitted estimators */\n",
              "  --sklearn-color-unfitted-level-0: #fff5e6;\n",
              "  --sklearn-color-unfitted-level-1: #f6e4d2;\n",
              "  --sklearn-color-unfitted-level-2: #ffe0b3;\n",
              "  --sklearn-color-unfitted-level-3: chocolate;\n",
              "  /* Definition of color scheme for fitted estimators */\n",
              "  --sklearn-color-fitted-level-0: #f0f8ff;\n",
              "  --sklearn-color-fitted-level-1: #d4ebff;\n",
              "  --sklearn-color-fitted-level-2: #b3dbfd;\n",
              "  --sklearn-color-fitted-level-3: cornflowerblue;\n",
              "\n",
              "  /* Specific color for light theme */\n",
              "  --sklearn-color-text-on-default-background: var(--sg-text-color, var(--theme-code-foreground, var(--jp-content-font-color1, black)));\n",
              "  --sklearn-color-background: var(--sg-background-color, var(--theme-background, var(--jp-layout-color0, white)));\n",
              "  --sklearn-color-border-box: var(--sg-text-color, var(--theme-code-foreground, var(--jp-content-font-color1, black)));\n",
              "  --sklearn-color-icon: #696969;\n",
              "\n",
              "  @media (prefers-color-scheme: dark) {\n",
              "    /* Redefinition of color scheme for dark theme */\n",
              "    --sklearn-color-text-on-default-background: var(--sg-text-color, var(--theme-code-foreground, var(--jp-content-font-color1, white)));\n",
              "    --sklearn-color-background: var(--sg-background-color, var(--theme-background, var(--jp-layout-color0, #111)));\n",
              "    --sklearn-color-border-box: var(--sg-text-color, var(--theme-code-foreground, var(--jp-content-font-color1, white)));\n",
              "    --sklearn-color-icon: #878787;\n",
              "  }\n",
              "}\n",
              "\n",
              "#sk-container-id-3 {\n",
              "  color: var(--sklearn-color-text);\n",
              "}\n",
              "\n",
              "#sk-container-id-3 pre {\n",
              "  padding: 0;\n",
              "}\n",
              "\n",
              "#sk-container-id-3 input.sk-hidden--visually {\n",
              "  border: 0;\n",
              "  clip: rect(1px 1px 1px 1px);\n",
              "  clip: rect(1px, 1px, 1px, 1px);\n",
              "  height: 1px;\n",
              "  margin: -1px;\n",
              "  overflow: hidden;\n",
              "  padding: 0;\n",
              "  position: absolute;\n",
              "  width: 1px;\n",
              "}\n",
              "\n",
              "#sk-container-id-3 div.sk-dashed-wrapped {\n",
              "  border: 1px dashed var(--sklearn-color-line);\n",
              "  margin: 0 0.4em 0.5em 0.4em;\n",
              "  box-sizing: border-box;\n",
              "  padding-bottom: 0.4em;\n",
              "  background-color: var(--sklearn-color-background);\n",
              "}\n",
              "\n",
              "#sk-container-id-3 div.sk-container {\n",
              "  /* jupyter's `normalize.less` sets `[hidden] { display: none; }`\n",
              "     but bootstrap.min.css set `[hidden] { display: none !important; }`\n",
              "     so we also need the `!important` here to be able to override the\n",
              "     default hidden behavior on the sphinx rendered scikit-learn.org.\n",
              "     See: https://github.com/scikit-learn/scikit-learn/issues/21755 */\n",
              "  display: inline-block !important;\n",
              "  position: relative;\n",
              "}\n",
              "\n",
              "#sk-container-id-3 div.sk-text-repr-fallback {\n",
              "  display: none;\n",
              "}\n",
              "\n",
              "div.sk-parallel-item,\n",
              "div.sk-serial,\n",
              "div.sk-item {\n",
              "  /* draw centered vertical line to link estimators */\n",
              "  background-image: linear-gradient(var(--sklearn-color-text-on-default-background), var(--sklearn-color-text-on-default-background));\n",
              "  background-size: 2px 100%;\n",
              "  background-repeat: no-repeat;\n",
              "  background-position: center center;\n",
              "}\n",
              "\n",
              "/* Parallel-specific style estimator block */\n",
              "\n",
              "#sk-container-id-3 div.sk-parallel-item::after {\n",
              "  content: \"\";\n",
              "  width: 100%;\n",
              "  border-bottom: 2px solid var(--sklearn-color-text-on-default-background);\n",
              "  flex-grow: 1;\n",
              "}\n",
              "\n",
              "#sk-container-id-3 div.sk-parallel {\n",
              "  display: flex;\n",
              "  align-items: stretch;\n",
              "  justify-content: center;\n",
              "  background-color: var(--sklearn-color-background);\n",
              "  position: relative;\n",
              "}\n",
              "\n",
              "#sk-container-id-3 div.sk-parallel-item {\n",
              "  display: flex;\n",
              "  flex-direction: column;\n",
              "}\n",
              "\n",
              "#sk-container-id-3 div.sk-parallel-item:first-child::after {\n",
              "  align-self: flex-end;\n",
              "  width: 50%;\n",
              "}\n",
              "\n",
              "#sk-container-id-3 div.sk-parallel-item:last-child::after {\n",
              "  align-self: flex-start;\n",
              "  width: 50%;\n",
              "}\n",
              "\n",
              "#sk-container-id-3 div.sk-parallel-item:only-child::after {\n",
              "  width: 0;\n",
              "}\n",
              "\n",
              "/* Serial-specific style estimator block */\n",
              "\n",
              "#sk-container-id-3 div.sk-serial {\n",
              "  display: flex;\n",
              "  flex-direction: column;\n",
              "  align-items: center;\n",
              "  background-color: var(--sklearn-color-background);\n",
              "  padding-right: 1em;\n",
              "  padding-left: 1em;\n",
              "}\n",
              "\n",
              "\n",
              "/* Toggleable style: style used for estimator/Pipeline/ColumnTransformer box that is\n",
              "clickable and can be expanded/collapsed.\n",
              "- Pipeline and ColumnTransformer use this feature and define the default style\n",
              "- Estimators will overwrite some part of the style using the `sk-estimator` class\n",
              "*/\n",
              "\n",
              "/* Pipeline and ColumnTransformer style (default) */\n",
              "\n",
              "#sk-container-id-3 div.sk-toggleable {\n",
              "  /* Default theme specific background. It is overwritten whether we have a\n",
              "  specific estimator or a Pipeline/ColumnTransformer */\n",
              "  background-color: var(--sklearn-color-background);\n",
              "}\n",
              "\n",
              "/* Toggleable label */\n",
              "#sk-container-id-3 label.sk-toggleable__label {\n",
              "  cursor: pointer;\n",
              "  display: flex;\n",
              "  width: 100%;\n",
              "  margin-bottom: 0;\n",
              "  padding: 0.5em;\n",
              "  box-sizing: border-box;\n",
              "  text-align: center;\n",
              "  align-items: start;\n",
              "  justify-content: space-between;\n",
              "  gap: 0.5em;\n",
              "}\n",
              "\n",
              "#sk-container-id-3 label.sk-toggleable__label .caption {\n",
              "  font-size: 0.6rem;\n",
              "  font-weight: lighter;\n",
              "  color: var(--sklearn-color-text-muted);\n",
              "}\n",
              "\n",
              "#sk-container-id-3 label.sk-toggleable__label-arrow:before {\n",
              "  /* Arrow on the left of the label */\n",
              "  content: \"▸\";\n",
              "  float: left;\n",
              "  margin-right: 0.25em;\n",
              "  color: var(--sklearn-color-icon);\n",
              "}\n",
              "\n",
              "#sk-container-id-3 label.sk-toggleable__label-arrow:hover:before {\n",
              "  color: var(--sklearn-color-text);\n",
              "}\n",
              "\n",
              "/* Toggleable content - dropdown */\n",
              "\n",
              "#sk-container-id-3 div.sk-toggleable__content {\n",
              "  max-height: 0;\n",
              "  max-width: 0;\n",
              "  overflow: hidden;\n",
              "  text-align: left;\n",
              "  /* unfitted */\n",
              "  background-color: var(--sklearn-color-unfitted-level-0);\n",
              "}\n",
              "\n",
              "#sk-container-id-3 div.sk-toggleable__content.fitted {\n",
              "  /* fitted */\n",
              "  background-color: var(--sklearn-color-fitted-level-0);\n",
              "}\n",
              "\n",
              "#sk-container-id-3 div.sk-toggleable__content pre {\n",
              "  margin: 0.2em;\n",
              "  border-radius: 0.25em;\n",
              "  color: var(--sklearn-color-text);\n",
              "  /* unfitted */\n",
              "  background-color: var(--sklearn-color-unfitted-level-0);\n",
              "}\n",
              "\n",
              "#sk-container-id-3 div.sk-toggleable__content.fitted pre {\n",
              "  /* unfitted */\n",
              "  background-color: var(--sklearn-color-fitted-level-0);\n",
              "}\n",
              "\n",
              "#sk-container-id-3 input.sk-toggleable__control:checked~div.sk-toggleable__content {\n",
              "  /* Expand drop-down */\n",
              "  max-height: 200px;\n",
              "  max-width: 100%;\n",
              "  overflow: auto;\n",
              "}\n",
              "\n",
              "#sk-container-id-3 input.sk-toggleable__control:checked~label.sk-toggleable__label-arrow:before {\n",
              "  content: \"▾\";\n",
              "}\n",
              "\n",
              "/* Pipeline/ColumnTransformer-specific style */\n",
              "\n",
              "#sk-container-id-3 div.sk-label input.sk-toggleable__control:checked~label.sk-toggleable__label {\n",
              "  color: var(--sklearn-color-text);\n",
              "  background-color: var(--sklearn-color-unfitted-level-2);\n",
              "}\n",
              "\n",
              "#sk-container-id-3 div.sk-label.fitted input.sk-toggleable__control:checked~label.sk-toggleable__label {\n",
              "  background-color: var(--sklearn-color-fitted-level-2);\n",
              "}\n",
              "\n",
              "/* Estimator-specific style */\n",
              "\n",
              "/* Colorize estimator box */\n",
              "#sk-container-id-3 div.sk-estimator input.sk-toggleable__control:checked~label.sk-toggleable__label {\n",
              "  /* unfitted */\n",
              "  background-color: var(--sklearn-color-unfitted-level-2);\n",
              "}\n",
              "\n",
              "#sk-container-id-3 div.sk-estimator.fitted input.sk-toggleable__control:checked~label.sk-toggleable__label {\n",
              "  /* fitted */\n",
              "  background-color: var(--sklearn-color-fitted-level-2);\n",
              "}\n",
              "\n",
              "#sk-container-id-3 div.sk-label label.sk-toggleable__label,\n",
              "#sk-container-id-3 div.sk-label label {\n",
              "  /* The background is the default theme color */\n",
              "  color: var(--sklearn-color-text-on-default-background);\n",
              "}\n",
              "\n",
              "/* On hover, darken the color of the background */\n",
              "#sk-container-id-3 div.sk-label:hover label.sk-toggleable__label {\n",
              "  color: var(--sklearn-color-text);\n",
              "  background-color: var(--sklearn-color-unfitted-level-2);\n",
              "}\n",
              "\n",
              "/* Label box, darken color on hover, fitted */\n",
              "#sk-container-id-3 div.sk-label.fitted:hover label.sk-toggleable__label.fitted {\n",
              "  color: var(--sklearn-color-text);\n",
              "  background-color: var(--sklearn-color-fitted-level-2);\n",
              "}\n",
              "\n",
              "/* Estimator label */\n",
              "\n",
              "#sk-container-id-3 div.sk-label label {\n",
              "  font-family: monospace;\n",
              "  font-weight: bold;\n",
              "  display: inline-block;\n",
              "  line-height: 1.2em;\n",
              "}\n",
              "\n",
              "#sk-container-id-3 div.sk-label-container {\n",
              "  text-align: center;\n",
              "}\n",
              "\n",
              "/* Estimator-specific */\n",
              "#sk-container-id-3 div.sk-estimator {\n",
              "  font-family: monospace;\n",
              "  border: 1px dotted var(--sklearn-color-border-box);\n",
              "  border-radius: 0.25em;\n",
              "  box-sizing: border-box;\n",
              "  margin-bottom: 0.5em;\n",
              "  /* unfitted */\n",
              "  background-color: var(--sklearn-color-unfitted-level-0);\n",
              "}\n",
              "\n",
              "#sk-container-id-3 div.sk-estimator.fitted {\n",
              "  /* fitted */\n",
              "  background-color: var(--sklearn-color-fitted-level-0);\n",
              "}\n",
              "\n",
              "/* on hover */\n",
              "#sk-container-id-3 div.sk-estimator:hover {\n",
              "  /* unfitted */\n",
              "  background-color: var(--sklearn-color-unfitted-level-2);\n",
              "}\n",
              "\n",
              "#sk-container-id-3 div.sk-estimator.fitted:hover {\n",
              "  /* fitted */\n",
              "  background-color: var(--sklearn-color-fitted-level-2);\n",
              "}\n",
              "\n",
              "/* Specification for estimator info (e.g. \"i\" and \"?\") */\n",
              "\n",
              "/* Common style for \"i\" and \"?\" */\n",
              "\n",
              ".sk-estimator-doc-link,\n",
              "a:link.sk-estimator-doc-link,\n",
              "a:visited.sk-estimator-doc-link {\n",
              "  float: right;\n",
              "  font-size: smaller;\n",
              "  line-height: 1em;\n",
              "  font-family: monospace;\n",
              "  background-color: var(--sklearn-color-background);\n",
              "  border-radius: 1em;\n",
              "  height: 1em;\n",
              "  width: 1em;\n",
              "  text-decoration: none !important;\n",
              "  margin-left: 0.5em;\n",
              "  text-align: center;\n",
              "  /* unfitted */\n",
              "  border: var(--sklearn-color-unfitted-level-1) 1pt solid;\n",
              "  color: var(--sklearn-color-unfitted-level-1);\n",
              "}\n",
              "\n",
              ".sk-estimator-doc-link.fitted,\n",
              "a:link.sk-estimator-doc-link.fitted,\n",
              "a:visited.sk-estimator-doc-link.fitted {\n",
              "  /* fitted */\n",
              "  border: var(--sklearn-color-fitted-level-1) 1pt solid;\n",
              "  color: var(--sklearn-color-fitted-level-1);\n",
              "}\n",
              "\n",
              "/* On hover */\n",
              "div.sk-estimator:hover .sk-estimator-doc-link:hover,\n",
              ".sk-estimator-doc-link:hover,\n",
              "div.sk-label-container:hover .sk-estimator-doc-link:hover,\n",
              ".sk-estimator-doc-link:hover {\n",
              "  /* unfitted */\n",
              "  background-color: var(--sklearn-color-unfitted-level-3);\n",
              "  color: var(--sklearn-color-background);\n",
              "  text-decoration: none;\n",
              "}\n",
              "\n",
              "div.sk-estimator.fitted:hover .sk-estimator-doc-link.fitted:hover,\n",
              ".sk-estimator-doc-link.fitted:hover,\n",
              "div.sk-label-container:hover .sk-estimator-doc-link.fitted:hover,\n",
              ".sk-estimator-doc-link.fitted:hover {\n",
              "  /* fitted */\n",
              "  background-color: var(--sklearn-color-fitted-level-3);\n",
              "  color: var(--sklearn-color-background);\n",
              "  text-decoration: none;\n",
              "}\n",
              "\n",
              "/* Span, style for the box shown on hovering the info icon */\n",
              ".sk-estimator-doc-link span {\n",
              "  display: none;\n",
              "  z-index: 9999;\n",
              "  position: relative;\n",
              "  font-weight: normal;\n",
              "  right: .2ex;\n",
              "  padding: .5ex;\n",
              "  margin: .5ex;\n",
              "  width: min-content;\n",
              "  min-width: 20ex;\n",
              "  max-width: 50ex;\n",
              "  color: var(--sklearn-color-text);\n",
              "  box-shadow: 2pt 2pt 4pt #999;\n",
              "  /* unfitted */\n",
              "  background: var(--sklearn-color-unfitted-level-0);\n",
              "  border: .5pt solid var(--sklearn-color-unfitted-level-3);\n",
              "}\n",
              "\n",
              ".sk-estimator-doc-link.fitted span {\n",
              "  /* fitted */\n",
              "  background: var(--sklearn-color-fitted-level-0);\n",
              "  border: var(--sklearn-color-fitted-level-3);\n",
              "}\n",
              "\n",
              ".sk-estimator-doc-link:hover span {\n",
              "  display: block;\n",
              "}\n",
              "\n",
              "/* \"?\"-specific style due to the `<a>` HTML tag */\n",
              "\n",
              "#sk-container-id-3 a.estimator_doc_link {\n",
              "  float: right;\n",
              "  font-size: 1rem;\n",
              "  line-height: 1em;\n",
              "  font-family: monospace;\n",
              "  background-color: var(--sklearn-color-background);\n",
              "  border-radius: 1rem;\n",
              "  height: 1rem;\n",
              "  width: 1rem;\n",
              "  text-decoration: none;\n",
              "  /* unfitted */\n",
              "  color: var(--sklearn-color-unfitted-level-1);\n",
              "  border: var(--sklearn-color-unfitted-level-1) 1pt solid;\n",
              "}\n",
              "\n",
              "#sk-container-id-3 a.estimator_doc_link.fitted {\n",
              "  /* fitted */\n",
              "  border: var(--sklearn-color-fitted-level-1) 1pt solid;\n",
              "  color: var(--sklearn-color-fitted-level-1);\n",
              "}\n",
              "\n",
              "/* On hover */\n",
              "#sk-container-id-3 a.estimator_doc_link:hover {\n",
              "  /* unfitted */\n",
              "  background-color: var(--sklearn-color-unfitted-level-3);\n",
              "  color: var(--sklearn-color-background);\n",
              "  text-decoration: none;\n",
              "}\n",
              "\n",
              "#sk-container-id-3 a.estimator_doc_link.fitted:hover {\n",
              "  /* fitted */\n",
              "  background-color: var(--sklearn-color-fitted-level-3);\n",
              "}\n",
              "</style><div id=\"sk-container-id-3\" class=\"sk-top-container\"><div class=\"sk-text-repr-fallback\"><pre>KMeans(n_clusters=3)</pre><b>In a Jupyter environment, please rerun this cell to show the HTML representation or trust the notebook. <br />On GitHub, the HTML representation is unable to render, please try loading this page with nbviewer.org.</b></div><div class=\"sk-container\" hidden><div class=\"sk-item\"><div class=\"sk-estimator fitted sk-toggleable\"><input class=\"sk-toggleable__control sk-hidden--visually\" id=\"sk-estimator-id-3\" type=\"checkbox\" checked><label for=\"sk-estimator-id-3\" class=\"sk-toggleable__label fitted sk-toggleable__label-arrow\"><div><div>KMeans</div></div><div><a class=\"sk-estimator-doc-link fitted\" rel=\"noreferrer\" target=\"_blank\" href=\"https://scikit-learn.org/1.6/modules/generated/sklearn.cluster.KMeans.html\">?<span>Documentation for KMeans</span></a><span class=\"sk-estimator-doc-link fitted\">i<span>Fitted</span></span></div></label><div class=\"sk-toggleable__content fitted\"><pre>KMeans(n_clusters=3)</pre></div> </div></div></div></div>"
            ],
            "text/plain": [
              "KMeans(n_clusters=3)"
            ]
          },
          "execution_count": 170,
          "metadata": {},
          "output_type": "execute_result"
        }
      ],
      "source": [
        "# Build model with 3 clusters\n",
        "kmeans =  KMeans(n_clusters = 3, init='k-means++')\n",
        "kmeans.fit(df_scaled)"
      ]
    },
    {
      "cell_type": "markdown",
      "metadata": {
        "id": "eGW4h5_iw5vf"
      },
      "source": [
        "**Model performance**\n",
        "\n",
        "Evaluate performance of a model using the **silhouette score**. This is a coefficient value that ranges from -1 to +1. A higher silhouette score is indicative of a better model."
      ]
    },
    {
      "cell_type": "code",
      "execution_count": 171,
      "metadata": {
        "colab": {
          "base_uri": "https://localhost:8080/"
        },
        "id": "j3cR_27twnuh",
        "outputId": "d909deec-dc47-4053-e5d3-76d4bd5d4943"
      },
      "outputs": [
        {
          "name": "stdout",
          "output_type": "stream",
          "text": [
            "0.5178112189083216\n"
          ]
        }
      ],
      "source": [
        "# Evaluate performance of the model\n",
        "print(silhouette_score(df_scaled, kmeans.labels_))"
      ]
    },
    {
      "cell_type": "markdown",
      "metadata": {
        "id": "i3rtZtSYxkWu"
      },
      "source": [
        "**Silhouette Score Interpretation**\n",
        "\n",
        "The silhouette score of the model is 0.5, indicaing that the clusters are reasonably well-separated.\n",
        "\n",
        "Most points are closer to their own cluster's centroid than to other clusters' centroids."
      ]
    },
    {
      "cell_type": "markdown",
      "metadata": {
        "id": "opr8dKo4yoCZ"
      },
      "source": [
        "### Segementation Model Interpretation and Visualization\n",
        "\n",
        "This phase entails assigning clusters to each customer in the dataset.\n",
        "\n",
        "Key steps to be executed:\n",
        "\n",
        "- We make predictions using the kmeans model to determine classes of each record in `df` dataset (our non-standardized dataframe)\n",
        "- visualize our data to identify the distinct traits of customers in each segment"
      ]
    },
    {
      "cell_type": "code",
      "execution_count": 172,
      "metadata": {
        "colab": {
          "base_uri": "https://localhost:8080/"
        },
        "id": "nqnrXDKWxc6n",
        "outputId": "9cbfb8a6-1009-4648-8cf7-1b558ac78b73"
      },
      "outputs": [
        {
          "name": "stdout",
          "output_type": "stream",
          "text": [
            "      Recency  Frequency  Monetary  Cluster\n",
            "0         325          2      0.00        2\n",
            "1           1        182   4310.00        1\n",
            "2          74         31   1797.24        0\n",
            "3          18         73   1757.55        0\n",
            "4         309         17    334.40        2\n",
            "...       ...        ...       ...      ...\n",
            "4367      277         10    180.60        2\n",
            "4368      180          7     80.82        2\n",
            "4369        7         13    176.60        0\n",
            "4370        3        756   2094.88        1\n",
            "4371       42         70   1837.28        0\n",
            "\n",
            "[4321 rows x 4 columns]\n"
          ]
        }
      ],
      "source": [
        "# Step 1: Predicting classes of each customer record based on rfm\n",
        "predictions = kmeans.predict(df_scaled)\n",
        "predictions\n",
        "\n",
        "# add predictions as a column to df\n",
        "df['Cluster'] = predictions\n",
        "print(df)\n"
      ]
    },
    {
      "cell_type": "code",
      "execution_count": 173,
      "metadata": {
        "colab": {
          "base_uri": "https://localhost:8080/",
          "height": 1000
        },
        "id": "PNZC565F2E0-",
        "outputId": "5a39ce2d-8c1c-46aa-c6b7-f9b1618d6039"
      },
      "outputs": [
        {
          "data": {
            "image/png": "[encoded data removed]",
            "text/plain": [
              "<Figure size 640x480 with 1 Axes>"
            ]
          },
          "metadata": {},
          "output_type": "display_data"
        },
        {
          "data": {
            "image/png": "[encoded data removed]",
            "text/plain": [
              "<Figure size 640x480 with 1 Axes>"
            ]
          },
          "metadata": {},
          "output_type": "display_data"
        },
        {
          "data": {
            "image/png": "[encoded data removed]",
            "text/plain": [
              "<Figure size 640x480 with 1 Axes>"
            ]
          },
          "metadata": {},
          "output_type": "display_data"
        }
      ],
      "source": [
        "# Step 2: Visualize distinct traits of customer segments\n",
        "segments_df = df.groupby(['Cluster'], as_index=False).mean()\n",
        "for i in items:\n",
        "    sns.barplot(x='Cluster',y=str(i),data=segments_df)\n",
        "    plt.savefig(\"Customer segments.png\")\n",
        "    plt.show()"
      ]
    },
    {
      "cell_type": "markdown",
      "metadata": {
        "id": "IUnHepc84lL8"
      },
      "source": [
        "# Results of Customer Segments based on Clusters\n",
        "\n",
        "The ouput of the visual above shows various customer segments based on RFM approach. Key traits of each customer segment based on their cluster:\n",
        "\n",
        "1. **Cluster 0**:\n",
        "\n",
        "- The customers have high recency, low frequency and\n",
        "low monetary value scores. The can be categorized as as **New Customers/Promising.**\n",
        "\n",
        "They are likely new to your business and have made a recent purchase but haven't yet shown a pattern of frequent purchases or high spending. They hold potential for becoming more engaged with your business.\n",
        "\n",
        "Key strategies of converting them:\n",
        "\n",
        "a) Promotional Offers: Offer promotions or incentives to encourage repeat purchases.\n",
        "\n",
        "b) Personalized Messages: Send personalized follow-up emails or offers to build loyalty\n",
        "\n",
        "2. **Cluster 1**:\n",
        "\n",
        "- The customers have low recency, high frequency and\n",
        "high monetary value scores.\n",
        "\n",
        "They are the most **valuable and loyal customers** who have spent a lot and purchased frequently in the past but haven't bought anything recently.\n",
        "\n",
        "3. **Cluster 2**:\n",
        "\n",
        "- The customers have low recency, moderate frequency and low monetary value scores.\n",
        "\n",
        "These customers have engaged with your business in the past but haven't purchased anything recently and typically do not spend much. They are at risk of becoming inactive and may need some re-engagement to get them back."
      ]
    },
    {
      "cell_type": "code",
      "execution_count": 173,
      "metadata": {
        "id": "n3NAZ2Bi4t2k"
      },
      "outputs": [],
      "source": []
    }
  ],
  "metadata": {
    "colab": {
      "provenance": []
    },
    "kernelspec": {
      "display_name": "my_env",
      "language": "python",
      "name": "python3"
    },
    "language_info": {
      "codemirror_mode": {
        "name": "ipython",
        "version": 3
      },
      "file_extension": ".py",
      "mimetype": "text/x-python",
      "name": "python",
      "nbconvert_exporter": "python",
      "pygments_lexer": "ipython3",
      "version": "3.12.3"
    }
  },
  "nbformat": 4,
  "nbformat_minor": 0
}
